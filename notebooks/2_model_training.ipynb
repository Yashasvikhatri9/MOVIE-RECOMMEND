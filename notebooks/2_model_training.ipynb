{
 "cells": [
  {
   "cell_type": "code",
   "execution_count": 2,
   "metadata": {},
   "outputs": [],
   "source": [
    "import pandas as pd\n",
    "import numpy as np"
   ]
  },
  {
   "cell_type": "code",
   "execution_count": 3,
   "metadata": {},
   "outputs": [
    {
     "name": "stderr",
     "output_type": "stream",
     "text": [
      "C:\\Users\\yasha\\AppData\\Local\\Temp\\ipykernel_22756\\2665026983.py:1: DtypeWarning: Columns (7,12) have mixed types. Specify dtype option on import or set low_memory=False.\n",
      "  movie = pd.read_csv(\"..\\data\\processed\\movies_clean.csv\")\n"
     ]
    }
   ],
   "source": [
    "movie = pd.read_csv(\"..\\data\\processed\\movies_clean.csv\")\n",
    "movies = movie.copy()"
   ]
  },
  {
   "cell_type": "code",
   "execution_count": 4,
   "metadata": {},
   "outputs": [
    {
     "name": "stdout",
     "output_type": "stream",
     "text": [
      "<class 'pandas.core.frame.DataFrame'>\n",
      "RangeIndex: 318158 entries, 0 to 318157\n",
      "Data columns (total 14 columns):\n",
      " #   Column                Non-Null Count   Dtype  \n",
      "---  ------                --------------   -----  \n",
      " 0   id                    318158 non-null  int64  \n",
      " 1   title                 318158 non-null  object \n",
      " 2   vote_average          318158 non-null  float64\n",
      " 3   vote_count            318158 non-null  int64  \n",
      " 4   release_date          306070 non-null  object \n",
      " 5   runtime               318158 non-null  int64  \n",
      " 6   backdrop_path         318158 non-null  object \n",
      " 7   imdb_id               165872 non-null  object \n",
      " 8   popularity            318158 non-null  float64\n",
      " 9   poster_path           318158 non-null  object \n",
      " 10  genres                260695 non-null  object \n",
      " 11  production_countries  244043 non-null  object \n",
      " 12  trailer_link          76371 non-null   object \n",
      " 13  combined_text         318158 non-null  object \n",
      "dtypes: float64(2), int64(3), object(9)\n",
      "memory usage: 34.0+ MB\n"
     ]
    }
   ],
   "source": [
    "movies.info()"
   ]
  },
  {
   "cell_type": "code",
   "execution_count": 5,
   "metadata": {},
   "outputs": [],
   "source": [
    "# Convert all object/string columns to lowercase\n",
    "for col in movies.select_dtypes(include='object').columns:\n",
    "    movies[col] = movies[col].str.lower()\n"
   ]
  },
  {
   "cell_type": "code",
   "execution_count": 6,
   "metadata": {},
   "outputs": [],
   "source": [
    "from sklearn.feature_extraction.text import TfidfVectorizer"
   ]
  },
  {
   "cell_type": "code",
   "execution_count": 7,
   "metadata": {},
   "outputs": [],
   "source": [
    "vector = TfidfVectorizer(stop_words='english', max_features=20000)\n",
    "model = vector.fit_transform(movie['combined_text'])"
   ]
  },
  {
   "cell_type": "code",
   "execution_count": 8,
   "metadata": {},
   "outputs": [],
   "source": [
    "from sklearn.decomposition import TruncatedSVD"
   ]
  },
  {
   "cell_type": "code",
   "execution_count": 9,
   "metadata": {},
   "outputs": [],
   "source": [
    "svd = TruncatedSVD(n_components=200, random_state=42)\n",
    "vector_reduced = svd.fit_transform(model)\n",
    "vector_reduced = vector_reduced.astype('float32')\n"
   ]
  },
  {
   "cell_type": "code",
   "execution_count": 10,
   "metadata": {},
   "outputs": [],
   "source": [
    "import joblib"
   ]
  },
  {
   "cell_type": "code",
   "execution_count": 11,
   "metadata": {},
   "outputs": [],
   "source": [
    "with open(\"../models/vector.joblib\", \"wb\") as f:\n",
    "    joblib.dump(vector, f, protocol=4)\n",
    "\n",
    "with open(\"../models/vector_reduced.joblib\", \"wb\") as f:\n",
    "    joblib.dump(vector_reduced, f, protocol=4)\n",
    "\n",
    "with open(\"../models/svd_model.joblib\", \"wb\") as f:\n",
    "    joblib.dump(svd, f, protocol=4)"
   ]
  },
  {
   "cell_type": "code",
   "execution_count": 21,
   "metadata": {},
   "outputs": [
    {
     "name": "stderr",
     "output_type": "stream",
     "text": [
      "c:\\Users\\yasha\\Desktop\\movie_recommender\\.venv\\Lib\\site-packages\\tqdm\\auto.py:21: TqdmWarning: IProgress not found. Please update jupyter and ipywidgets. See https://ipywidgets.readthedocs.io/en/stable/user_install.html\n",
      "  from .autonotebook import tqdm as notebook_tqdm\n",
      "Xet Storage is enabled for this repo, but the 'hf_xet' package is not installed. Falling back to regular HTTP download. For better performance, install the package with: `pip install huggingface_hub[hf_xet]` or `pip install hf_xet`\n",
      "Xet Storage is enabled for this repo, but the 'hf_xet' package is not installed. Falling back to regular HTTP download. For better performance, install the package with: `pip install huggingface_hub[hf_xet]` or `pip install hf_xet`\n",
      "Xet Storage is enabled for this repo, but the 'hf_xet' package is not installed. Falling back to regular HTTP download. For better performance, install the package with: `pip install huggingface_hub[hf_xet]` or `pip install hf_xet`\n",
      "C:\\Users\\yasha\\AppData\\Local\\Temp\\ipykernel_22756\\465416792.py:5: DtypeWarning: Columns (7,12) have mixed types. Specify dtype option on import or set low_memory=False.\n",
      "  movie = pd.read_csv(hf_hub_download(\"yashasvi-01-02/movie-recommendation\", \"data/processed/movies_clean.csv\"))\n"
     ]
    }
   ],
   "source": [
    "from huggingface_hub import hf_hub_download\n",
    "vector = joblib.load(hf_hub_download(\"yashasvi-01-02/movie-recommendation\", \"models/vector.joblib\"))\n",
    "vector_reduced = joblib.load(hf_hub_download(\"yashasvi-01-02/movie-recommendation\", \"models/vector_reduced.joblib\"))\n",
    "svd = joblib.load(hf_hub_download(\"yashasvi-01-02/movie-recommendation\", \"models/svd_model.joblib\"))\n",
    "movie = pd.read_csv(hf_hub_download(\"yashasvi-01-02/movie-recommendation\", \"data/processed/movies_clean.csv\"))\n"
   ]
  },
  {
   "cell_type": "code",
   "execution_count": 23,
   "metadata": {},
   "outputs": [
    {
     "data": {
      "text/html": [
       "<div>\n",
       "<style scoped>\n",
       "    .dataframe tbody tr th:only-of-type {\n",
       "        vertical-align: middle;\n",
       "    }\n",
       "\n",
       "    .dataframe tbody tr th {\n",
       "        vertical-align: top;\n",
       "    }\n",
       "\n",
       "    .dataframe thead th {\n",
       "        text-align: right;\n",
       "    }\n",
       "</style>\n",
       "<table border=\"1\" class=\"dataframe\">\n",
       "  <thead>\n",
       "    <tr style=\"text-align: right;\">\n",
       "      <th></th>\n",
       "      <th>id</th>\n",
       "      <th>imdb_id</th>\n",
       "      <th>title</th>\n",
       "      <th>vote_average</th>\n",
       "      <th>vote_count</th>\n",
       "      <th>genres</th>\n",
       "      <th>backdrop_path</th>\n",
       "      <th>poster_path</th>\n",
       "      <th>trailer_link</th>\n",
       "      <th>similarity</th>\n",
       "    </tr>\n",
       "  </thead>\n",
       "  <tbody>\n",
       "    <tr>\n",
       "      <th>30273</th>\n",
       "      <td>45002</td>\n",
       "      <td>tt0126234</td>\n",
       "      <td>Chamatkar</td>\n",
       "      <td>6.419</td>\n",
       "      <td>43</td>\n",
       "      <td>Romance, Comedy</td>\n",
       "      <td>https://image.tmdb.org/t/p/original/fmSEpurLBh...</td>\n",
       "      <td>https://image.tmdb.org/t/p/original/tJlGNBkE0D...</td>\n",
       "      <td>NaN</td>\n",
       "      <td>0.800405</td>\n",
       "    </tr>\n",
       "    <tr>\n",
       "      <th>17427</th>\n",
       "      <td>505175</td>\n",
       "      <td>tt7853242</td>\n",
       "      <td>Love per Square Foot</td>\n",
       "      <td>6.693</td>\n",
       "      <td>106</td>\n",
       "      <td>Comedy, Romance</td>\n",
       "      <td>https://image.tmdb.org/t/p/original/odmG3Y24tp...</td>\n",
       "      <td>https://image.tmdb.org/t/p/original/edKCIS7i4q...</td>\n",
       "      <td>https://www.youtube.com/watch?v=2I_eypETmKo</td>\n",
       "      <td>0.780098</td>\n",
       "    </tr>\n",
       "    <tr>\n",
       "      <th>12039</th>\n",
       "      <td>58128</td>\n",
       "      <td>tt0109117</td>\n",
       "      <td>Andaz Apna Apna</td>\n",
       "      <td>6.780</td>\n",
       "      <td>193</td>\n",
       "      <td>Comedy, Romance, Family</td>\n",
       "      <td>https://image.tmdb.org/t/p/original/8YboYnoujB...</td>\n",
       "      <td>https://image.tmdb.org/t/p/original/a0GV2V3yif...</td>\n",
       "      <td>NaN</td>\n",
       "      <td>0.765876</td>\n",
       "    </tr>\n",
       "    <tr>\n",
       "      <th>19070</th>\n",
       "      <td>85052</td>\n",
       "      <td>tt1980986</td>\n",
       "      <td>Housefull 2</td>\n",
       "      <td>5.457</td>\n",
       "      <td>92</td>\n",
       "      <td>Comedy, Romance</td>\n",
       "      <td>https://image.tmdb.org/t/p/original/fyAOfkkxou...</td>\n",
       "      <td>https://image.tmdb.org/t/p/original/y6L3GpfXWq...</td>\n",
       "      <td>https://www.youtube.com/watch?v=H40CULLKIyM</td>\n",
       "      <td>0.733410</td>\n",
       "    </tr>\n",
       "    <tr>\n",
       "      <th>17300</th>\n",
       "      <td>291157</td>\n",
       "      <td>tt3554418</td>\n",
       "      <td>Khoobsurat</td>\n",
       "      <td>6.700</td>\n",
       "      <td>107</td>\n",
       "      <td>Comedy, Romance</td>\n",
       "      <td>https://image.tmdb.org/t/p/original/6OiopPJu3S...</td>\n",
       "      <td>https://image.tmdb.org/t/p/original/fJnWRipBGa...</td>\n",
       "      <td>https://www.youtube.com/watch?v=pOreDBy1YfI</td>\n",
       "      <td>0.731479</td>\n",
       "    </tr>\n",
       "    <tr>\n",
       "      <th>20541</th>\n",
       "      <td>19663</td>\n",
       "      <td>tt1275863</td>\n",
       "      <td>Love Aaj Kal</td>\n",
       "      <td>6.200</td>\n",
       "      <td>82</td>\n",
       "      <td>Comedy, Drama, Romance</td>\n",
       "      <td>https://image.tmdb.org/t/p/original/vpCGx7IcYd...</td>\n",
       "      <td>https://image.tmdb.org/t/p/original/36hkylLil3...</td>\n",
       "      <td>https://www.youtube.com/watch?v=M8pWvwzbDQo</td>\n",
       "      <td>0.730259</td>\n",
       "    </tr>\n",
       "    <tr>\n",
       "      <th>26751</th>\n",
       "      <td>15467</td>\n",
       "      <td>tt1105733</td>\n",
       "      <td>Kismat Konnection</td>\n",
       "      <td>4.972</td>\n",
       "      <td>53</td>\n",
       "      <td>Drama, Comedy, Romance</td>\n",
       "      <td>https://image.tmdb.org/t/p/original/pwSjIDnWw2...</td>\n",
       "      <td>https://image.tmdb.org/t/p/original/maIqwcXgvc...</td>\n",
       "      <td>NaN</td>\n",
       "      <td>0.721804</td>\n",
       "    </tr>\n",
       "    <tr>\n",
       "      <th>14208</th>\n",
       "      <td>103243</td>\n",
       "      <td>tt2317337</td>\n",
       "      <td>Vicky Donor</td>\n",
       "      <td>6.780</td>\n",
       "      <td>148</td>\n",
       "      <td>Comedy, Romance</td>\n",
       "      <td>https://image.tmdb.org/t/p/original/gHDMBYpp5N...</td>\n",
       "      <td>https://image.tmdb.org/t/p/original/u8AO7DgcVY...</td>\n",
       "      <td>https://www.youtube.com/watch?v=jciL3-0Ix00</td>\n",
       "      <td>0.713537</td>\n",
       "    </tr>\n",
       "    <tr>\n",
       "      <th>29891</th>\n",
       "      <td>504080</td>\n",
       "      <td>tt7638344</td>\n",
       "      <td>Dhadak</td>\n",
       "      <td>7.295</td>\n",
       "      <td>44</td>\n",
       "      <td>Romance, Drama, Comedy</td>\n",
       "      <td>https://image.tmdb.org/t/p/original/3BrGn1hzfT...</td>\n",
       "      <td>https://image.tmdb.org/t/p/original/vIVKzzPA7h...</td>\n",
       "      <td>https://www.youtube.com/watch?v=TIE92mUvSsw</td>\n",
       "      <td>0.705818</td>\n",
       "    </tr>\n",
       "  </tbody>\n",
       "</table>\n",
       "</div>"
      ],
      "text/plain": [
       "           id    imdb_id                 title  vote_average  vote_count  \\\n",
       "30273   45002  tt0126234             Chamatkar         6.419          43   \n",
       "17427  505175  tt7853242  Love per Square Foot         6.693         106   \n",
       "12039   58128  tt0109117       Andaz Apna Apna         6.780         193   \n",
       "19070   85052  tt1980986           Housefull 2         5.457          92   \n",
       "17300  291157  tt3554418            Khoobsurat         6.700         107   \n",
       "20541   19663  tt1275863          Love Aaj Kal         6.200          82   \n",
       "26751   15467  tt1105733     Kismat Konnection         4.972          53   \n",
       "14208  103243  tt2317337           Vicky Donor         6.780         148   \n",
       "29891  504080  tt7638344                Dhadak         7.295          44   \n",
       "\n",
       "                        genres  \\\n",
       "30273          Romance, Comedy   \n",
       "17427          Comedy, Romance   \n",
       "12039  Comedy, Romance, Family   \n",
       "19070          Comedy, Romance   \n",
       "17300          Comedy, Romance   \n",
       "20541   Comedy, Drama, Romance   \n",
       "26751   Drama, Comedy, Romance   \n",
       "14208          Comedy, Romance   \n",
       "29891   Romance, Drama, Comedy   \n",
       "\n",
       "                                           backdrop_path  \\\n",
       "30273  https://image.tmdb.org/t/p/original/fmSEpurLBh...   \n",
       "17427  https://image.tmdb.org/t/p/original/odmG3Y24tp...   \n",
       "12039  https://image.tmdb.org/t/p/original/8YboYnoujB...   \n",
       "19070  https://image.tmdb.org/t/p/original/fyAOfkkxou...   \n",
       "17300  https://image.tmdb.org/t/p/original/6OiopPJu3S...   \n",
       "20541  https://image.tmdb.org/t/p/original/vpCGx7IcYd...   \n",
       "26751  https://image.tmdb.org/t/p/original/pwSjIDnWw2...   \n",
       "14208  https://image.tmdb.org/t/p/original/gHDMBYpp5N...   \n",
       "29891  https://image.tmdb.org/t/p/original/3BrGn1hzfT...   \n",
       "\n",
       "                                             poster_path  \\\n",
       "30273  https://image.tmdb.org/t/p/original/tJlGNBkE0D...   \n",
       "17427  https://image.tmdb.org/t/p/original/edKCIS7i4q...   \n",
       "12039  https://image.tmdb.org/t/p/original/a0GV2V3yif...   \n",
       "19070  https://image.tmdb.org/t/p/original/y6L3GpfXWq...   \n",
       "17300  https://image.tmdb.org/t/p/original/fJnWRipBGa...   \n",
       "20541  https://image.tmdb.org/t/p/original/36hkylLil3...   \n",
       "26751  https://image.tmdb.org/t/p/original/maIqwcXgvc...   \n",
       "14208  https://image.tmdb.org/t/p/original/u8AO7DgcVY...   \n",
       "29891  https://image.tmdb.org/t/p/original/vIVKzzPA7h...   \n",
       "\n",
       "                                      trailer_link  similarity  \n",
       "30273                                          NaN    0.800405  \n",
       "17427  https://www.youtube.com/watch?v=2I_eypETmKo    0.780098  \n",
       "12039                                          NaN    0.765876  \n",
       "19070  https://www.youtube.com/watch?v=H40CULLKIyM    0.733410  \n",
       "17300  https://www.youtube.com/watch?v=pOreDBy1YfI    0.731479  \n",
       "20541  https://www.youtube.com/watch?v=M8pWvwzbDQo    0.730259  \n",
       "26751                                          NaN    0.721804  \n",
       "14208  https://www.youtube.com/watch?v=jciL3-0Ix00    0.713537  \n",
       "29891  https://www.youtube.com/watch?v=TIE92mUvSsw    0.705818  "
      ]
     },
     "execution_count": 23,
     "metadata": {},
     "output_type": "execute_result"
    }
   ],
   "source": [
    "from sklearn.metrics.pairwise import cosine_similarity\n",
    "\n",
    "def recommend_movies(query, top_n=10):\n",
    "\n",
    "    movies_filtered = movie[(movie[\"vote_average\"] > 2) & (movie[\"vote_count\"] > 40)]\n",
    "    query_vec = vector.transform([query.lower()])\n",
    "    query_vec_reduced = svd.transform(query_vec)\n",
    "    similarity = cosine_similarity(query_vec_reduced, vector_reduced[movies_filtered.index]).flatten()\n",
    "    top_indices = similarity.argsort()[::-1][2:top_n+1]\n",
    "    recommended = movies_filtered.iloc[top_indices][[\"id\",'imdb_id','title','vote_average','vote_count','genres','backdrop_path','poster_path','trailer_link']].copy()\n",
    "    recommended['similarity'] = similarity[top_indices]\n",
    "    return recommended\n",
    "\n",
    "query_result = recommend_movies(\"Comedy Romance hindi\")\n",
    "query_result.head(10)\n"
   ]
  }
 ],
 "metadata": {
  "kernelspec": {
   "display_name": ".venv",
   "language": "python",
   "name": "python3"
  },
  "language_info": {
   "codemirror_mode": {
    "name": "ipython",
    "version": 3
   },
   "file_extension": ".py",
   "mimetype": "text/x-python",
   "name": "python",
   "nbconvert_exporter": "python",
   "pygments_lexer": "ipython3",
   "version": "3.11.0"
  }
 },
 "nbformat": 4,
 "nbformat_minor": 2
}
