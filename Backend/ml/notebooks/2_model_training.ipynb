{
 "cells": [
  {
   "cell_type": "code",
   "execution_count": 102,
   "metadata": {},
   "outputs": [],
   "source": [
    "import pandas as pd\n",
    "import numpy as np"
   ]
  },
  {
   "cell_type": "code",
   "execution_count": 103,
   "metadata": {},
   "outputs": [],
   "source": [
    "movie = pd.read_csv(r\"C:\\Users\\yasha\\Desktop\\movie_recommender\\Backend\\ml\\data\\processed\\movies_clean.csv\")\n",
    "movies = movie.copy()"
   ]
  },
  {
   "cell_type": "code",
   "execution_count": 104,
   "metadata": {},
   "outputs": [
    {
     "name": "stdout",
     "output_type": "stream",
     "text": [
      "<class 'pandas.core.frame.DataFrame'>\n",
      "RangeIndex: 208429 entries, 0 to 208428\n",
      "Data columns (total 12 columns):\n",
      " #   Column                Non-Null Count   Dtype  \n",
      "---  ------                --------------   -----  \n",
      " 0   id                    208429 non-null  int64  \n",
      " 1   title                 208429 non-null  object \n",
      " 2   vote_average          208429 non-null  float64\n",
      " 3   vote_count            208429 non-null  int64  \n",
      " 4   runtime               208429 non-null  int64  \n",
      " 5   backdrop_path         208429 non-null  object \n",
      " 6   imdb_id               208429 non-null  object \n",
      " 7   popularity            208429 non-null  float64\n",
      " 8   poster_path           208429 non-null  object \n",
      " 9   genres                193748 non-null  object \n",
      " 10  production_countries  178954 non-null  object \n",
      " 11  combined_text         208429 non-null  object \n",
      "dtypes: float64(2), int64(3), object(7)\n",
      "memory usage: 19.1+ MB\n"
     ]
    }
   ],
   "source": [
    "movies.info()"
   ]
  },
  {
   "cell_type": "code",
   "execution_count": 105,
   "metadata": {},
   "outputs": [],
   "source": [
    "# Convert all object/string columns to lowercase\n",
    "for col in movies.select_dtypes(include='object').columns:\n",
    "    movies[col] = movies[col].str.lower()\n"
   ]
  },
  {
   "cell_type": "code",
   "execution_count": 106,
   "metadata": {},
   "outputs": [],
   "source": [
    "from sklearn.feature_extraction.text import TfidfVectorizer"
   ]
  },
  {
   "cell_type": "code",
   "execution_count": 107,
   "metadata": {},
   "outputs": [],
   "source": [
    "vector = TfidfVectorizer(stop_words='english', max_features=20000)\n",
    "model = vector.fit_transform(movie['combined_text'])"
   ]
  },
  {
   "cell_type": "code",
   "execution_count": 108,
   "metadata": {},
   "outputs": [],
   "source": [
    "from sklearn.decomposition import TruncatedSVD"
   ]
  },
  {
   "cell_type": "code",
   "execution_count": 109,
   "metadata": {},
   "outputs": [],
   "source": [
    "svd = TruncatedSVD(n_components=200, random_state=42)\n",
    "vector_reduced = svd.fit_transform(model)"
   ]
  },
  {
   "cell_type": "code",
   "execution_count": 110,
   "metadata": {},
   "outputs": [],
   "source": [
    "from sklearn.preprocessing import StandardScaler"
   ]
  },
  {
   "cell_type": "code",
   "execution_count": 111,
   "metadata": {},
   "outputs": [],
   "source": [
    "num_features = [\"vote_average\", \"vote_count\", \"popularity\"]\n",
    "scaler = StandardScaler()\n",
    "num_scaled = scaler.fit_transform(movies[num_features])\n",
    "\n",
    "combined_vectors = np.hstack([vector_reduced, num_scaled])\n"
   ]
  },
  {
   "cell_type": "code",
   "execution_count": 112,
   "metadata": {},
   "outputs": [],
   "source": [
    "import pickle"
   ]
  },
  {
   "cell_type": "code",
   "execution_count": 113,
   "metadata": {},
   "outputs": [],
   "source": [
    "pickle.dump(vector, open(r\"C:\\Users\\yasha\\Desktop\\movie_recommender\\Backend\\ml\\models\\vector.pkl\", \"wb\"))\n",
    "pickle.dump(model, open(r\"C:\\Users\\yasha\\Desktop\\movie_recommender\\Backend\\ml\\models\\model.pkl\", \"wb\"))\n",
    "pickle.dump(vector_reduced, open(r\"C:\\Users\\yasha\\Desktop\\movie_recommender\\Backend\\ml\\models\\vector_reduced.pkl\", \"wb\"))\n"
   ]
  },
  {
   "cell_type": "code",
   "execution_count": 114,
   "metadata": {},
   "outputs": [],
   "source": [
    "from sklearn.metrics.pairwise import cosine_similarity"
   ]
  },
  {
   "cell_type": "code",
   "execution_count": 115,
   "metadata": {},
   "outputs": [
    {
     "data": {
      "text/html": [
       "<div>\n",
       "<style scoped>\n",
       "    .dataframe tbody tr th:only-of-type {\n",
       "        vertical-align: middle;\n",
       "    }\n",
       "\n",
       "    .dataframe tbody tr th {\n",
       "        vertical-align: top;\n",
       "    }\n",
       "\n",
       "    .dataframe thead th {\n",
       "        text-align: right;\n",
       "    }\n",
       "</style>\n",
       "<table border=\"1\" class=\"dataframe\">\n",
       "  <thead>\n",
       "    <tr style=\"text-align: right;\">\n",
       "      <th></th>\n",
       "      <th>id</th>\n",
       "      <th>title</th>\n",
       "      <th>vote_average</th>\n",
       "      <th>vote_count</th>\n",
       "      <th>genres</th>\n",
       "      <th>backdrop_path</th>\n",
       "      <th>poster_path</th>\n",
       "      <th>similarity</th>\n",
       "    </tr>\n",
       "  </thead>\n",
       "  <tbody>\n",
       "    <tr>\n",
       "      <th>30349</th>\n",
       "      <td>25869</td>\n",
       "      <td>Salaam-e-Ishq</td>\n",
       "      <td>4.893</td>\n",
       "      <td>42</td>\n",
       "      <td>Comedy, Drama, Romance</td>\n",
       "      <td>https://image.tmdb.org/t/p/original/viP4tHMj0e...</td>\n",
       "      <td>https://image.tmdb.org/t/p/original/85XY4iBEZr...</td>\n",
       "      <td>0.749182</td>\n",
       "    </tr>\n",
       "    <tr>\n",
       "      <th>21984</th>\n",
       "      <td>15864</td>\n",
       "      <td>Bachna Ae Haseeno</td>\n",
       "      <td>6.081</td>\n",
       "      <td>73</td>\n",
       "      <td>Drama, Comedy, Romance</td>\n",
       "      <td>https://image.tmdb.org/t/p/original/uoqDaSsJp5...</td>\n",
       "      <td>https://image.tmdb.org/t/p/original/HqUJdDNYJx...</td>\n",
       "      <td>0.731947</td>\n",
       "    </tr>\n",
       "    <tr>\n",
       "      <th>19327</th>\n",
       "      <td>4253</td>\n",
       "      <td>Hum Tum</td>\n",
       "      <td>6.422</td>\n",
       "      <td>90</td>\n",
       "      <td>Romance, Family, Comedy, Drama</td>\n",
       "      <td>https://image.tmdb.org/t/p/original/fGxaC8xYB8...</td>\n",
       "      <td>https://image.tmdb.org/t/p/original/yYwxJ6Qgr2...</td>\n",
       "      <td>0.723308</td>\n",
       "    </tr>\n",
       "    <tr>\n",
       "      <th>29809</th>\n",
       "      <td>20929</td>\n",
       "      <td>Taal</td>\n",
       "      <td>6.400</td>\n",
       "      <td>44</td>\n",
       "      <td>Drama, Romance</td>\n",
       "      <td>https://image.tmdb.org/t/p/original/amHXl0gpzM...</td>\n",
       "      <td>https://image.tmdb.org/t/p/original/n2VsCd4wPI...</td>\n",
       "      <td>0.723132</td>\n",
       "    </tr>\n",
       "    <tr>\n",
       "      <th>29121</th>\n",
       "      <td>237305</td>\n",
       "      <td>Gori Tere Pyaar Mein</td>\n",
       "      <td>5.900</td>\n",
       "      <td>45</td>\n",
       "      <td>Comedy, Romance</td>\n",
       "      <td>https://image.tmdb.org/t/p/original/ewI2f0gaav...</td>\n",
       "      <td>https://image.tmdb.org/t/p/original/icfBtvHEYI...</td>\n",
       "      <td>0.708286</td>\n",
       "    </tr>\n",
       "    <tr>\n",
       "      <th>27530</th>\n",
       "      <td>399624</td>\n",
       "      <td>Befikre</td>\n",
       "      <td>5.200</td>\n",
       "      <td>50</td>\n",
       "      <td>Romance, Comedy, Drama</td>\n",
       "      <td>https://image.tmdb.org/t/p/original/aZvsSlyZMh...</td>\n",
       "      <td>https://image.tmdb.org/t/p/original/qLmBAaylw1...</td>\n",
       "      <td>0.706045</td>\n",
       "    </tr>\n",
       "    <tr>\n",
       "      <th>16523</th>\n",
       "      <td>577328</td>\n",
       "      <td>Kabir Singh</td>\n",
       "      <td>6.569</td>\n",
       "      <td>116</td>\n",
       "      <td>Drama, Romance</td>\n",
       "      <td>https://image.tmdb.org/t/p/original/yFwn006ETs...</td>\n",
       "      <td>https://image.tmdb.org/t/p/original/q2jY2IKv1h...</td>\n",
       "      <td>0.701952</td>\n",
       "    </tr>\n",
       "    <tr>\n",
       "      <th>27449</th>\n",
       "      <td>27624</td>\n",
       "      <td>Maine Pyar Kiya</td>\n",
       "      <td>6.200</td>\n",
       "      <td>50</td>\n",
       "      <td>Romance, Drama</td>\n",
       "      <td>https://image.tmdb.org/t/p/original/3fmJiICJY0...</td>\n",
       "      <td>https://image.tmdb.org/t/p/original/aqZ9CEbXVL...</td>\n",
       "      <td>0.691031</td>\n",
       "    </tr>\n",
       "    <tr>\n",
       "      <th>10304</th>\n",
       "      <td>14072</td>\n",
       "      <td>Rab Ne Bana Di Jodi</td>\n",
       "      <td>7.108</td>\n",
       "      <td>244</td>\n",
       "      <td>Comedy, Drama, Romance</td>\n",
       "      <td>https://image.tmdb.org/t/p/original/AcLsfw3TVZ...</td>\n",
       "      <td>https://image.tmdb.org/t/p/original/m8x6I2qf3R...</td>\n",
       "      <td>0.684637</td>\n",
       "    </tr>\n",
       "  </tbody>\n",
       "</table>\n",
       "</div>"
      ],
      "text/plain": [
       "           id                 title  vote_average  vote_count  \\\n",
       "30349   25869         Salaam-e-Ishq         4.893          42   \n",
       "21984   15864     Bachna Ae Haseeno         6.081          73   \n",
       "19327    4253               Hum Tum         6.422          90   \n",
       "29809   20929                  Taal         6.400          44   \n",
       "29121  237305  Gori Tere Pyaar Mein         5.900          45   \n",
       "27530  399624               Befikre         5.200          50   \n",
       "16523  577328           Kabir Singh         6.569         116   \n",
       "27449   27624       Maine Pyar Kiya         6.200          50   \n",
       "10304   14072   Rab Ne Bana Di Jodi         7.108         244   \n",
       "\n",
       "                               genres  \\\n",
       "30349          Comedy, Drama, Romance   \n",
       "21984          Drama, Comedy, Romance   \n",
       "19327  Romance, Family, Comedy, Drama   \n",
       "29809                  Drama, Romance   \n",
       "29121                 Comedy, Romance   \n",
       "27530          Romance, Comedy, Drama   \n",
       "16523                  Drama, Romance   \n",
       "27449                  Romance, Drama   \n",
       "10304          Comedy, Drama, Romance   \n",
       "\n",
       "                                           backdrop_path  \\\n",
       "30349  https://image.tmdb.org/t/p/original/viP4tHMj0e...   \n",
       "21984  https://image.tmdb.org/t/p/original/uoqDaSsJp5...   \n",
       "19327  https://image.tmdb.org/t/p/original/fGxaC8xYB8...   \n",
       "29809  https://image.tmdb.org/t/p/original/amHXl0gpzM...   \n",
       "29121  https://image.tmdb.org/t/p/original/ewI2f0gaav...   \n",
       "27530  https://image.tmdb.org/t/p/original/aZvsSlyZMh...   \n",
       "16523  https://image.tmdb.org/t/p/original/yFwn006ETs...   \n",
       "27449  https://image.tmdb.org/t/p/original/3fmJiICJY0...   \n",
       "10304  https://image.tmdb.org/t/p/original/AcLsfw3TVZ...   \n",
       "\n",
       "                                             poster_path  similarity  \n",
       "30349  https://image.tmdb.org/t/p/original/85XY4iBEZr...    0.749182  \n",
       "21984  https://image.tmdb.org/t/p/original/HqUJdDNYJx...    0.731947  \n",
       "19327  https://image.tmdb.org/t/p/original/yYwxJ6Qgr2...    0.723308  \n",
       "29809  https://image.tmdb.org/t/p/original/n2VsCd4wPI...    0.723132  \n",
       "29121  https://image.tmdb.org/t/p/original/icfBtvHEYI...    0.708286  \n",
       "27530  https://image.tmdb.org/t/p/original/qLmBAaylw1...    0.706045  \n",
       "16523  https://image.tmdb.org/t/p/original/q2jY2IKv1h...    0.701952  \n",
       "27449  https://image.tmdb.org/t/p/original/aqZ9CEbXVL...    0.691031  \n",
       "10304  https://image.tmdb.org/t/p/original/m8x6I2qf3R...    0.684637  "
      ]
     },
     "execution_count": 115,
     "metadata": {},
     "output_type": "execute_result"
    }
   ],
   "source": [
    "from sklearn.metrics.pairwise import cosine_similarity\n",
    "\n",
    "def recommend_movies(query, top_n=10):\n",
    "\n",
    "    movies_filtered = movie[(movie[\"vote_average\"] > 2) & (movie[\"vote_count\"] > 40)]\n",
    "    query_vec = vector.transform([query.lower()])\n",
    "    query_vec_reduced = svd.transform(query_vec)\n",
    "    similarity = cosine_similarity(query_vec_reduced, vector_reduced[movies_filtered.index]).flatten()\n",
    "    top_indices = similarity.argsort()[::-1][2:top_n+1]\n",
    "    recommended = movies_filtered.iloc[top_indices][['id','title','vote_average','vote_count','genres','backdrop_path','poster_path']].copy()\n",
    "    recommended['similarity'] = similarity[top_indices]\n",
    "    \n",
    "    return recommended\n",
    "\n",
    "\n",
    "query_result = recommend_movies(\"Comedy  Drama  Romance Raj is a rich  carefree  happy-go-lucky second generation NRI. Simran is the daughter of Chaudhary Baldev Singh  who in spite of being an NRI is very strict about adherence to Indian values. Simran has left for India to be married to her childhood fiancé. Raj leaves for India with a mission at his hands  to claim his lady love under the noses of her whole family. Thus begins a saga. family's daily life  family history  love-hate relationship  family drama  love affair Hindi hi Come Fall In love  All Over Again.. India Yash Raj Films\")\n",
    "query_result.head(10)\n"
   ]
  }
 ],
 "metadata": {
  "kernelspec": {
   "display_name": "Python 3",
   "language": "python",
   "name": "python3"
  },
  "language_info": {
   "codemirror_mode": {
    "name": "ipython",
    "version": 3
   },
   "file_extension": ".py",
   "mimetype": "text/x-python",
   "name": "python",
   "nbconvert_exporter": "python",
   "pygments_lexer": "ipython3",
   "version": "3.13.5"
  }
 },
 "nbformat": 4,
 "nbformat_minor": 2
}
