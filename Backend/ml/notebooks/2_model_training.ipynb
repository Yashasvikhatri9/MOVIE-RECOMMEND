{
 "cells": [
  {
   "cell_type": "markdown",
   "metadata": {},
   "source": [
    "# Model Training Notebook"
   ]
  },
  {
   "cell_type": "code",
   "execution_count": 2,
   "metadata": {},
   "outputs": [],
   "source": [
    "import pandas as pd"
   ]
  },
  {
   "cell_type": "code",
   "execution_count": 3,
   "metadata": {},
   "outputs": [],
   "source": [
    "movies = pd.read_csv(r\"C:\\Users\\yasha\\Desktop\\movie_recommender\\Backend\\ml\\data\\processed\\movies_clean.csv\")\n",
    "movie = movies"
   ]
  },
  {
   "cell_type": "code",
   "execution_count": 4,
   "metadata": {},
   "outputs": [
    {
     "name": "stdout",
     "output_type": "stream",
     "text": [
      "<class 'pandas.core.frame.DataFrame'>\n",
      "RangeIndex: 1260932 entries, 0 to 1260931\n",
      "Data columns (total 11 columns):\n",
      " #   Column                Non-Null Count    Dtype  \n",
      "---  ------                --------------    -----  \n",
      " 0   id                    1260932 non-null  int64  \n",
      " 1   title                 1260932 non-null  object \n",
      " 2   vote_average          1260932 non-null  float64\n",
      " 3   vote_count            1260932 non-null  int64  \n",
      " 4   status                1260932 non-null  object \n",
      " 5   release_date          1025808 non-null  object \n",
      " 6   adult                 1260932 non-null  bool   \n",
      " 7   imdb_id               629446 non-null   object \n",
      " 8   popularity            1260932 non-null  float64\n",
      " 9   production_countries  666319 non-null   object \n",
      " 10  combined_text         1260932 non-null  object \n",
      "dtypes: bool(1), float64(2), int64(2), object(6)\n",
      "memory usage: 97.4+ MB\n"
     ]
    }
   ],
   "source": [
    "movies.info()"
   ]
  },
  {
   "cell_type": "code",
   "execution_count": 12,
   "metadata": {},
   "outputs": [
    {
     "data": {
      "text/plain": [
       "328751488"
      ]
     },
     "execution_count": 12,
     "metadata": {},
     "output_type": "execute_result"
    }
   ],
   "source": [
    "l = []\n",
    "for i in list(movies[\"combined_text\"]):\n",
    "    l.append(len(i))\n",
    "sum(l)"
   ]
  },
  {
   "cell_type": "code",
   "execution_count": 6,
   "metadata": {},
   "outputs": [],
   "source": [
    "# Convert all object/string columns to lowercase\n",
    "for col in movie.select_dtypes(include='object').columns:\n",
    "    movie[col] = movie[col].str.lower()\n"
   ]
  },
  {
   "cell_type": "code",
   "execution_count": 7,
   "metadata": {},
   "outputs": [],
   "source": [
    "from sklearn.feature_extraction.text import TfidfVectorizer"
   ]
  },
  {
   "cell_type": "code",
   "execution_count": null,
   "metadata": {},
   "outputs": [],
   "source": [
    "vector = TfidfVectorizer(stop_words='english', ngram_range=(1,2), max_features=50000)\n",
    "model = vector.fit_transform(movie['combined_text'])"
   ]
  },
  {
   "cell_type": "code",
   "execution_count": null,
   "metadata": {},
   "outputs": [],
   "source": [
    "import pickle"
   ]
  },
  {
   "cell_type": "code",
   "execution_count": null,
   "metadata": {},
   "outputs": [],
   "source": [
    "pickle.dump(vector, open(r\"C:\\Users\\yasha\\Desktop\\movie_recommender\\Backend\\ml\\models\\tfidf.pkl\", \"wb\"))\n",
    "pickle.dump(model, open(r\"C:\\Users\\yasha\\Desktop\\movie_recommender\\Backend\\ml\\models\\tfidf_matrix.pkl\", \"wb\"))\n"
   ]
  },
  {
   "cell_type": "code",
   "execution_count": null,
   "metadata": {},
   "outputs": [
    {
     "data": {
      "text/plain": [
       "Index(['id', 'title', 'vote_average', 'vote_count', 'status', 'release_date',\n",
       "       'adult', 'imdb_id', 'popularity', 'production_countries',\n",
       "       'combined_text'],\n",
       "      dtype='object')"
      ]
     },
     "execution_count": 35,
     "metadata": {},
     "output_type": "execute_result"
    }
   ],
   "source": [
    "movies.columns"
   ]
  },
  {
   "cell_type": "code",
   "execution_count": null,
   "metadata": {},
   "outputs": [
    {
     "name": "stdout",
     "output_type": "stream",
     "text": [
      "Top 5 recommended movies for query: jayenge\n",
      "              id                                              title  \\\n",
      "0          27205                                          inception   \n",
      "1260931  1560156                                     salsa misterio   \n",
      "1260930   813281                             entre idilio y condena   \n",
      "1260929   813280                                        rengasmatka   \n",
      "16           603                                         the matrix   \n",
      "17           597                                            titanic   \n",
      "18        475557                                              joker   \n",
      "19           120  the lord of the rings: the fellowship of the ring   \n",
      "20           122      the lord of the rings: the return of the king   \n",
      "21         11324                                     shutter island   \n",
      "22        106646                            the wolf of wall street   \n",
      "23         99861                            avengers: age of ultron   \n",
      "24        271110                         captain america: civil war   \n",
      "25         49026                              the dark knight rises   \n",
      "26         68721                                         iron man 3   \n",
      "27        284054                                      black panther   \n",
      "28        284052                                     doctor strange   \n",
      "29         76341                                 mad max: fury road   \n",
      "30         16869                               inglourious basterds   \n",
      "31         70160                                   the hunger games   \n",
      "1260896   813322                 this space in the shaking of light   \n",
      "1260897   813324                              big booty obsession 5   \n",
      "1260898   813327                                  el viaje de itatí   \n",
      "1260899   813328                                         transición   \n",
      "1260900   813332                                   the country girl   \n",
      "1260901   813336                         jornalismo e independência   \n",
      "1260902   813288                                      the last meal   \n",
      "1260903   813285                                       scenens børn   \n",
      "1260904   813284                      overweight with crooked teeth   \n",
      "1260905   813282                   an uninterrupted view of the sea   \n",
      "\n",
      "         vote_average  vote_count  \\\n",
      "0               8.364       34495   \n",
      "1260931         0.000           0   \n",
      "1260930         0.000           0   \n",
      "1260929         0.000           0   \n",
      "16              8.206       23815   \n",
      "17              7.900       23637   \n",
      "18              8.168       23425   \n",
      "19              8.402       23323   \n",
      "20              8.474       22334   \n",
      "21              8.200       22318   \n",
      "22              8.035       22222   \n",
      "23              7.276       21754   \n",
      "24              7.400       21541   \n",
      "25              7.777       21335   \n",
      "26              6.928       21064   \n",
      "27              7.390       21053   \n",
      "28              7.427       20935   \n",
      "29              7.582       20911   \n",
      "30              8.215       20746   \n",
      "31              7.193       20636   \n",
      "1260896         0.000           0   \n",
      "1260897         0.000           0   \n",
      "1260898         0.000           0   \n",
      "1260899         0.000           0   \n",
      "1260900         0.000           0   \n",
      "1260901         0.000           0   \n",
      "1260902         0.000           0   \n",
      "1260903         0.000           0   \n",
      "1260904         0.000           0   \n",
      "1260905         0.000           0   \n",
      "\n",
      "                                      production_countries  similarity  \n",
      "0                 united kingdom, united states of america         0.0  \n",
      "1260931                                                NaN         0.0  \n",
      "1260930                                                NaN         0.0  \n",
      "1260929                                            finland         0.0  \n",
      "16                                united states of america         0.0  \n",
      "17                                united states of america         0.0  \n",
      "18                        canada, united states of america         0.0  \n",
      "19                   new zealand, united states of america         0.0  \n",
      "20                   new zealand, united states of america         0.0  \n",
      "21                                united states of america         0.0  \n",
      "22                                united states of america         0.0  \n",
      "23                                united states of america         0.0  \n",
      "24                                united states of america         0.0  \n",
      "25                                united states of america         0.0  \n",
      "26                                united states of america         0.0  \n",
      "27                                united states of america         0.0  \n",
      "28                                united states of america         0.0  \n",
      "29       australia, united states of america, south africa         0.0  \n",
      "30               france, germany, united states of america         0.0  \n",
      "31                                united states of america         0.0  \n",
      "1260896                                                NaN         0.0  \n",
      "1260897                           united states of america         0.0  \n",
      "1260898                                                NaN         0.0  \n",
      "1260899                                                NaN         0.0  \n",
      "1260900                           united states of america         0.0  \n",
      "1260901                                             brazil         0.0  \n",
      "1260902                                             latvia         0.0  \n",
      "1260903                                            denmark         0.0  \n",
      "1260904                                             canada         0.0  \n",
      "1260905                   canada, united states of america         0.0  \n"
     ]
    }
   ],
   "source": [
    "from sklearn.metrics.pairwise import cosine_similarity\n",
    "\n",
    "# --- Test query ---\n",
    "query = \"jayenge\"\n",
    "\n",
    "# 1️⃣ Transform query into TF-IDF vector\n",
    "query_vec = vector.transform([query.lower()])\n",
    "\n",
    "# 2️⃣ Compute cosine similarity with all movies\n",
    "from sklearn.metrics.pairwise import cosine_similarity\n",
    "similarity = cosine_similarity(query_vec, model).flatten()\n",
    "\n",
    "# 3️⃣ Get top 5 most similar movies\n",
    "top_n = 30\n",
    "indices = similarity.argsort()[-top_n:][::-1]\n",
    "\n",
    "# 4️⃣ Display results with metadata\n",
    "recommended = movies.iloc[indices][['id','title','vote_average','vote_count',\"production_countries\"]]\n",
    "recommended['similarity'] = similarity[indices]\n",
    "\n",
    "print(\"Top 5 recommended movies for query:\", query)\n",
    "print(recommended)\n",
    "\n"
   ]
  },
  {
   "cell_type": "code",
   "execution_count": null,
   "metadata": {},
   "outputs": [],
   "source": []
  }
 ],
 "metadata": {
  "kernelspec": {
   "display_name": "Python 3",
   "language": "python",
   "name": "python3"
  },
  "language_info": {
   "codemirror_mode": {
    "name": "ipython",
    "version": 3
   },
   "file_extension": ".py",
   "mimetype": "text/x-python",
   "name": "python",
   "nbconvert_exporter": "python",
   "pygments_lexer": "ipython3",
   "version": "3.13.5"
  }
 },
 "nbformat": 4,
 "nbformat_minor": 2
}
