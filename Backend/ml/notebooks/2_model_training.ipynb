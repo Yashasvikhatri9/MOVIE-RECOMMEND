{
 "cells": [
  {
   "cell_type": "markdown",
   "metadata": {},
   "source": ["# Model Training Notebook"]
  },
  {
   "cell_type": "code",
   "metadata": {},
   "source": ["# Code to train TF-IDF model and save tfidf.pkl & tfidf_matrix.pkl"]
  }
 ],
 "metadata": {},
 "nbformat": 4,
 "nbformat_minor": 2
}