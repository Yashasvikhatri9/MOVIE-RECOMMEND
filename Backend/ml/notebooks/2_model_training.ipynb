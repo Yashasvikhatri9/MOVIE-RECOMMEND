{
 "cells": [
  {
   "cell_type": "code",
   "execution_count": 57,
   "metadata": {},
   "outputs": [],
   "source": [
    "import pandas as pd\n",
    "import numpy as np"
   ]
  },
  {
   "cell_type": "code",
   "execution_count": 58,
   "metadata": {},
   "outputs": [],
   "source": [
    "movie = pd.read_csv(r\"C:\\Users\\yasha\\Desktop\\movie_recommender\\Backend\\ml\\data\\processed\\movies_clean.csv\")\n",
    "movies = movie"
   ]
  },
  {
   "cell_type": "code",
   "execution_count": 59,
   "metadata": {},
   "outputs": [
    {
     "name": "stdout",
     "output_type": "stream",
     "text": [
      "<class 'pandas.core.frame.DataFrame'>\n",
      "RangeIndex: 1260932 entries, 0 to 1260931\n",
      "Data columns (total 12 columns):\n",
      " #   Column                Non-Null Count    Dtype  \n",
      "---  ------                --------------    -----  \n",
      " 0   id                    1260932 non-null  int64  \n",
      " 1   title                 1260932 non-null  object \n",
      " 2   vote_average          1260932 non-null  float64\n",
      " 3   vote_count            1260932 non-null  int64  \n",
      " 4   status                1260932 non-null  object \n",
      " 5   release_date          1025808 non-null  object \n",
      " 6   adult                 1260932 non-null  bool   \n",
      " 7   imdb_id               629446 non-null   object \n",
      " 8   popularity            1260932 non-null  float64\n",
      " 9   genres                718584 non-null   object \n",
      " 10  production_countries  666319 non-null   object \n",
      " 11  combined_text         1260932 non-null  object \n",
      "dtypes: bool(1), float64(2), int64(2), object(7)\n",
      "memory usage: 107.0+ MB\n"
     ]
    }
   ],
   "source": [
    "movies.info()"
   ]
  },
  {
   "cell_type": "code",
   "execution_count": 60,
   "metadata": {},
   "outputs": [],
   "source": [
    "# Convert all object/string columns to lowercase\n",
    "for col in movies.select_dtypes(include='object').columns:\n",
    "    movies[col] = movies[col].str.lower()\n"
   ]
  },
  {
   "cell_type": "code",
   "execution_count": 61,
   "metadata": {},
   "outputs": [],
   "source": [
    "from sklearn.feature_extraction.text import TfidfVectorizer"
   ]
  },
  {
   "cell_type": "code",
   "execution_count": 62,
   "metadata": {},
   "outputs": [],
   "source": [
    "vector = TfidfVectorizer(stop_words='english', max_features=20000)\n",
    "model = vector.fit_transform(movie['combined_text'])"
   ]
  },
  {
   "cell_type": "code",
   "execution_count": 63,
   "metadata": {},
   "outputs": [
    {
     "name": "stdout",
     "output_type": "stream",
     "text": [
      "<Compressed Sparse Row sparse matrix of dtype 'float64'\n",
      "\twith 26052753 stored elements and shape (1260932, 20000)>\n",
      "  Coords\tValues\n",
      "  (0, 8890)\t0.5594744822978015\n",
      "  (0, 490)\t0.0586533791445\n",
      "  (0, 15669)\t0.07205555520500254\n",
      "  (0, 6755)\t0.07204009157601167\n",
      "  (0, 599)\t0.06840357024087292\n",
      "  (0, 3613)\t0.14630503810872506\n",
      "  (0, 16371)\t0.12528270017741225\n",
      "  (0, 17912)\t0.10352711782753088\n",
      "  (0, 3775)\t0.12003893745693847\n",
      "  (0, 4162)\t0.11436934144358318\n",
      "  (0, 6183)\t0.12361461949578016\n",
      "  (0, 17236)\t0.3902046495055326\n",
      "  (0, 17676)\t0.1262728491638708\n",
      "  (0, 12512)\t0.11263941554650293\n",
      "  (0, 3178)\t0.0857653086169367\n",
      "  (0, 14614)\t0.11918482637907717\n",
      "  (0, 12544)\t0.061098902649629534\n",
      "  (0, 10356)\t0.04943570873619671\n",
      "  (0, 13085)\t0.13494662017716338\n",
      "  (0, 17683)\t0.10636816669051126\n",
      "  (0, 3987)\t0.10475729077014945\n",
      "  (0, 8851)\t0.10336290728937528\n",
      "  (0, 13227)\t0.08501012592905628\n",
      "  (0, 8716)\t0.09376879443270304\n",
      "  (0, 17673)\t0.10854809697236831\n",
      "  :\t:\n",
      "  (1260930, 530)\t0.16254300640089395\n",
      "  (1260930, 3982)\t0.17277254081915566\n",
      "  (1260930, 10328)\t0.19747616821560884\n",
      "  (1260930, 14892)\t0.17859017073368402\n",
      "  (1260930, 5925)\t0.21348051339741314\n",
      "  (1260930, 6091)\t0.5638923009699968\n",
      "  (1260931, 17358)\t0.09020028221461407\n",
      "  (1260931, 10761)\t0.10396672363583347\n",
      "  (1260931, 17090)\t0.08195079396120761\n",
      "  (1260931, 6263)\t0.0856568812797934\n",
      "  (1260931, 4323)\t0.107940972328978\n",
      "  (1260931, 12203)\t0.0700812750096557\n",
      "  (1260931, 6798)\t0.046338563894112235\n",
      "  (1260931, 8688)\t0.13368079075004274\n",
      "  (1260931, 12093)\t0.10403214450339922\n",
      "  (1260931, 3326)\t0.08921431940699463\n",
      "  (1260931, 18390)\t0.1333176083643219\n",
      "  (1260931, 5771)\t0.10582931473600825\n",
      "  (1260931, 19397)\t0.11980923749337537\n",
      "  (1260931, 15127)\t0.11203673019093181\n",
      "  (1260931, 6800)\t0.08844546045498708\n",
      "  (1260931, 5856)\t0.15455077003152162\n",
      "  (1260931, 19299)\t0.11769947235913447\n",
      "  (1260931, 15488)\t0.615274425587519\n",
      "  (1260931, 11555)\t0.6569895153549453\n"
     ]
    }
   ],
   "source": [
    "print(model)"
   ]
  },
  {
   "cell_type": "code",
   "execution_count": 64,
   "metadata": {},
   "outputs": [],
   "source": [
    "from sklearn.decomposition import TruncatedSVD"
   ]
  },
  {
   "cell_type": "code",
   "execution_count": 65,
   "metadata": {},
   "outputs": [],
   "source": [
    "svd = TruncatedSVD(n_components=200, random_state=42)\n",
    "vector_reduced = svd.fit_transform(model)"
   ]
  },
  {
   "cell_type": "code",
   "execution_count": 66,
   "metadata": {},
   "outputs": [
    {
     "data": {
      "text/plain": [
       "array([[ 0.11169659, -0.00835709, -0.02147402, ..., -0.00937292,\n",
       "         0.00469239,  0.00106571],\n",
       "       [ 0.13026337, -0.02335916, -0.03939034, ..., -0.0192442 ,\n",
       "         0.00219661,  0.00062995],\n",
       "       [ 0.1146324 , -0.02247688, -0.00763688, ..., -0.04158831,\n",
       "         0.03174735, -0.03136228],\n",
       "       ...,\n",
       "       [ 0.0773334 , -0.00770446, -0.00986875, ...,  0.03765192,\n",
       "         0.03533078, -0.02812561],\n",
       "       [ 0.097686  , -0.01263968, -0.0310992 , ...,  0.0157602 ,\n",
       "         0.01949153, -0.02555751],\n",
       "       [ 0.02536952, -0.00067942, -0.00990235, ..., -0.01606142,\n",
       "         0.0112789 , -0.01568437]], shape=(1260932, 200))"
      ]
     },
     "execution_count": 66,
     "metadata": {},
     "output_type": "execute_result"
    }
   ],
   "source": [
    "vector_reduced"
   ]
  },
  {
   "cell_type": "code",
   "execution_count": 67,
   "metadata": {},
   "outputs": [],
   "source": [
    "# import pickle"
   ]
  },
  {
   "cell_type": "code",
   "execution_count": 68,
   "metadata": {},
   "outputs": [],
   "source": [
    "# pickle.dump(vector, open(r\"C:\\Users\\yasha\\Desktop\\movie_recommender\\Backend\\ml\\models\\vector.pkl\", \"wb\"))\n",
    "# pickle.dump(model, open(r\"C:\\Users\\yasha\\Desktop\\movie_recommender\\Backend\\ml\\models\\model.pkl\", \"wb\"))\n",
    "# pickle.dump(vector_reduced, open(r\"C:\\Users\\yasha\\Desktop\\movie_recommender\\Backend\\ml\\models\\vector_reduced.pkl\", \"wb\"))\n"
   ]
  },
  {
   "cell_type": "code",
   "execution_count": 69,
   "metadata": {},
   "outputs": [
    {
     "name": "stdout",
     "output_type": "stream",
     "text": [
      "<Compressed Sparse Row sparse matrix of dtype 'float64'\n",
      "\twith 3 stored elements and shape (1, 20000)>\n",
      "  Coords\tValues\n",
      "  (0, 8928)\t0.5070595636822558\n",
      "  (0, 10187)\t0.5972393991207468\n",
      "  (0, 15238)\t0.6214464570791676\n"
     ]
    },
    {
     "data": {
      "text/html": [
       "<div>\n",
       "<style scoped>\n",
       "    .dataframe tbody tr th:only-of-type {\n",
       "        vertical-align: middle;\n",
       "    }\n",
       "\n",
       "    .dataframe tbody tr th {\n",
       "        vertical-align: top;\n",
       "    }\n",
       "\n",
       "    .dataframe thead th {\n",
       "        text-align: right;\n",
       "    }\n",
       "</style>\n",
       "<table border=\"1\" class=\"dataframe\">\n",
       "  <thead>\n",
       "    <tr style=\"text-align: right;\">\n",
       "      <th></th>\n",
       "      <th>id</th>\n",
       "      <th>title</th>\n",
       "      <th>vote_average</th>\n",
       "      <th>vote_count</th>\n",
       "      <th>genres</th>\n",
       "      <th>production_countries</th>\n",
       "      <th>similarity</th>\n",
       "    </tr>\n",
       "  </thead>\n",
       "  <tbody>\n",
       "    <tr>\n",
       "      <th>402486</th>\n",
       "      <td>1274006</td>\n",
       "      <td>jindagi jivi le</td>\n",
       "      <td>0.0</td>\n",
       "      <td>0</td>\n",
       "      <td>NaN</td>\n",
       "      <td>NaN</td>\n",
       "      <td>0.930368</td>\n",
       "    </tr>\n",
       "    <tr>\n",
       "      <th>1256654</th>\n",
       "      <td>808268</td>\n",
       "      <td>le pocha</td>\n",
       "      <td>0.0</td>\n",
       "      <td>0</td>\n",
       "      <td>documentary</td>\n",
       "      <td>india</td>\n",
       "      <td>0.863483</td>\n",
       "    </tr>\n",
       "    <tr>\n",
       "      <th>203544</th>\n",
       "      <td>1160225</td>\n",
       "      <td>nagumome chaalu le</td>\n",
       "      <td>6.5</td>\n",
       "      <td>2</td>\n",
       "      <td>romance, drama</td>\n",
       "      <td>india</td>\n",
       "      <td>0.842076</td>\n",
       "    </tr>\n",
       "    <tr>\n",
       "      <th>173982</th>\n",
       "      <td>245134</td>\n",
       "      <td>le halua le</td>\n",
       "      <td>7.2</td>\n",
       "      <td>3</td>\n",
       "      <td>comedy, drama, romance</td>\n",
       "      <td>india</td>\n",
       "      <td>0.835775</td>\n",
       "    </tr>\n",
       "    <tr>\n",
       "      <th>217452</th>\n",
       "      <td>558075</td>\n",
       "      <td>le chakka</td>\n",
       "      <td>5.5</td>\n",
       "      <td>2</td>\n",
       "      <td>comedy</td>\n",
       "      <td>india</td>\n",
       "      <td>0.835029</td>\n",
       "    </tr>\n",
       "  </tbody>\n",
       "</table>\n",
       "</div>"
      ],
      "text/plain": [
       "              id               title  vote_average  vote_count  \\\n",
       "402486   1274006     jindagi jivi le           0.0           0   \n",
       "1256654   808268            le pocha           0.0           0   \n",
       "203544   1160225  nagumome chaalu le           6.5           2   \n",
       "173982    245134         le halua le           7.2           3   \n",
       "217452    558075           le chakka           5.5           2   \n",
       "\n",
       "                         genres production_countries  similarity  \n",
       "402486                      NaN                  NaN    0.930368  \n",
       "1256654             documentary                india    0.863483  \n",
       "203544           romance, drama                india    0.842076  \n",
       "173982   comedy, drama, romance                india    0.835775  \n",
       "217452                   comedy                india    0.835029  "
      ]
     },
     "execution_count": 69,
     "metadata": {},
     "output_type": "execute_result"
    }
   ],
   "source": [
    "from sklearn.metrics.pairwise import cosine_similarity\n",
    "def recommend_movies(query, top_n=10):\n",
    "    query_vec = vector.transform([query.lower()])\n",
    "    query_vec_reduced = svd.transform(query_vec)\n",
    "    print(query_vec)\n",
    "    similarity = cosine_similarity(query_vec_reduced, vector_reduced).flatten()\n",
    "\n",
    "    top_indices = similarity.argsort()[::-1][:top_n]\n",
    "    recommended = movies.iloc[top_indices][['id','title','vote_average','vote_count','genres',\"production_countries\"]].copy()\n",
    "    recommended['similarity'] = similarity[top_indices]\n",
    "    return recommended\n",
    "\n",
    "\n",
    "query_result = recommend_movies(\"Dilwale Dulhania Le Jayenge India romantic\")\n",
    "query_result.head(5)\n"
   ]
  },
  {
   "cell_type": "code",
   "execution_count": null,
   "metadata": {},
   "outputs": [],
   "source": []
  }
 ],
 "metadata": {
  "kernelspec": {
   "display_name": "Python 3",
   "language": "python",
   "name": "python3"
  },
  "language_info": {
   "codemirror_mode": {
    "name": "ipython",
    "version": 3
   },
   "file_extension": ".py",
   "mimetype": "text/x-python",
   "name": "python",
   "nbconvert_exporter": "python",
   "pygments_lexer": "ipython3",
   "version": "3.13.5"
  }
 },
 "nbformat": 4,
 "nbformat_minor": 2
}
