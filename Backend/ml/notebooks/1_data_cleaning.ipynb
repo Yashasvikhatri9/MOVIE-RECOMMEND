{
 "cells": [
  {
   "cell_type": "code",
   "execution_count": 1,
   "id": "9fcc0dcc",
   "metadata": {},
   "outputs": [],
   "source": [
    "import pandas as pd\n",
    "import numpy as np"
   ]
  },
  {
   "cell_type": "code",
   "execution_count": 2,
   "id": "cbc9e2ec",
   "metadata": {},
   "outputs": [],
   "source": [
    "df = pd.read_csv(r\"C:\\Users\\yasha\\Desktop\\movie\\TMDB_movie_dataset_v11.csv\")"
   ]
  },
  {
   "cell_type": "code",
   "execution_count": 3,
   "id": "46456bf9",
   "metadata": {},
   "outputs": [
    {
     "data": {
      "text/plain": [
       "Index(['id', 'title', 'vote_average', 'vote_count', 'status', 'release_date',\n",
       "       'revenue', 'runtime', 'adult', 'backdrop_path', 'budget', 'homepage',\n",
       "       'imdb_id', 'original_language', 'original_title', 'overview',\n",
       "       'popularity', 'poster_path', 'tagline', 'genres',\n",
       "       'production_companies', 'production_countries', 'spoken_languages',\n",
       "       'keywords'],\n",
       "      dtype='object')"
      ]
     },
     "execution_count": 3,
     "metadata": {},
     "output_type": "execute_result"
    }
   ],
   "source": [
    "movie = df\n",
    "movie.columns"
   ]
  },
  {
   "cell_type": "code",
   "execution_count": 4,
   "id": "019ea16d",
   "metadata": {},
   "outputs": [
    {
     "data": {
      "text/plain": [
       "id                            0\n",
       "title                        16\n",
       "vote_average                  0\n",
       "vote_count                    0\n",
       "status                        0\n",
       "release_date             259048\n",
       "revenue                       0\n",
       "runtime                       0\n",
       "adult                         0\n",
       "backdrop_path            968628\n",
       "budget                        0\n",
       "homepage                1165910\n",
       "imdb_id                  659578\n",
       "original_language             0\n",
       "original_title               16\n",
       "overview                 287845\n",
       "popularity                    0\n",
       "poster_path              441496\n",
       "tagline                 1119682\n",
       "genres                   553600\n",
       "production_companies     733688\n",
       "production_countries     610186\n",
       "spoken_languages         586187\n",
       "keywords                 968299\n",
       "dtype: int64"
      ]
     },
     "execution_count": 4,
     "metadata": {},
     "output_type": "execute_result"
    }
   ],
   "source": [
    "df.isnull().sum()"
   ]
  },
  {
   "cell_type": "code",
   "execution_count": 5,
   "id": "1723fdf8",
   "metadata": {},
   "outputs": [
    {
     "data": {
      "text/plain": [
       "status\n",
       "Released           1261303\n",
       "In Production        17504\n",
       "Post Production      12149\n",
       "Planned               9403\n",
       "Rumored                542\n",
       "Canceled               339\n",
       "Name: count, dtype: int64"
      ]
     },
     "execution_count": 5,
     "metadata": {},
     "output_type": "execute_result"
    }
   ],
   "source": [
    "movie[\"status\"].value_counts()"
   ]
  },
  {
   "cell_type": "code",
   "execution_count": 6,
   "id": "54725232",
   "metadata": {},
   "outputs": [],
   "source": [
    "movie = movie.drop(columns=[\"poster_path\",\"backdrop_path\",\"revenue\",\"runtime\",\"budget\",\"homepage\",\"original_title\",\"poster_path\",\"production_companies\"],axis=1)\n"
   ]
  },
  {
   "cell_type": "code",
   "execution_count": 7,
   "id": "6bae94f4",
   "metadata": {},
   "outputs": [],
   "source": [
    "movie = movie[movie[\"status\"] == \"Released\"]"
   ]
  },
  {
   "cell_type": "code",
   "execution_count": 8,
   "id": "989f36ee",
   "metadata": {},
   "outputs": [],
   "source": [
    "movie = movie.dropna(subset=['title'])"
   ]
  },
  {
   "cell_type": "code",
   "execution_count": 9,
   "id": "e51c755a",
   "metadata": {},
   "outputs": [
    {
     "data": {
      "text/plain": [
       "id                            0\n",
       "title                         0\n",
       "vote_average                  0\n",
       "vote_count                    0\n",
       "status                        0\n",
       "release_date             235330\n",
       "adult                         0\n",
       "imdb_id                  631747\n",
       "original_language             0\n",
       "overview                 278466\n",
       "popularity                    0\n",
       "tagline                 1085884\n",
       "genres                   542614\n",
       "production_countries     594892\n",
       "spoken_languages         574281\n",
       "keywords                 938056\n",
       "dtype: int64"
      ]
     },
     "execution_count": 9,
     "metadata": {},
     "output_type": "execute_result"
    }
   ],
   "source": [
    "\n",
    "movie = movie.dropna(subset=[\"title\"])\n",
    "movie.isnull().sum()"
   ]
  },
  {
   "cell_type": "code",
   "execution_count": 10,
   "id": "9b46b4fc",
   "metadata": {},
   "outputs": [],
   "source": [
    "text_columns = ['overview','genres', 'keywords', 'tagline','release_date', 'imdb_id', 'production_countries', 'spoken_languages']\n",
    "for col in text_columns:\n",
    "    movie[col] = movie[col].fillna('')"
   ]
  },
  {
   "cell_type": "code",
   "execution_count": 11,
   "id": "5e30d2ff",
   "metadata": {},
   "outputs": [
    {
     "data": {
      "text/plain": [
       "np.int64(0)"
      ]
     },
     "execution_count": 11,
     "metadata": {},
     "output_type": "execute_result"
    }
   ],
   "source": [
    "movie = movie.drop_duplicates()\n",
    "movie.duplicated().sum()"
   ]
  },
  {
   "cell_type": "code",
   "execution_count": 12,
   "id": "44a7b8b2",
   "metadata": {},
   "outputs": [
    {
     "data": {
      "text/plain": [
       "id                      0\n",
       "title                   0\n",
       "vote_average            0\n",
       "vote_count              0\n",
       "status                  0\n",
       "release_date            0\n",
       "adult                   0\n",
       "imdb_id                 0\n",
       "original_language       0\n",
       "overview                0\n",
       "popularity              0\n",
       "tagline                 0\n",
       "genres                  0\n",
       "production_countries    0\n",
       "spoken_languages        0\n",
       "keywords                0\n",
       "dtype: int64"
      ]
     },
     "execution_count": 12,
     "metadata": {},
     "output_type": "execute_result"
    }
   ],
   "source": [
    "movie.isna().sum()"
   ]
  },
  {
   "cell_type": "code",
   "execution_count": 13,
   "id": "febd7c0a",
   "metadata": {},
   "outputs": [],
   "source": [
    "movie['combined_text'] = movie['title'] + ' ' + movie['title'] + ' ' + movie['title'] + ' ' + movie['genres'] + ' ' + movie['overview'] + ' ' + movie['keywords'] + ' ' + movie['spoken_languages'] + ' ' + movie['tagline'] + ' ' + movie[\"production_countries\"]"
   ]
  },
  {
   "cell_type": "code",
   "execution_count": 14,
   "id": "6dfaa0b5",
   "metadata": {},
   "outputs": [],
   "source": [
    "movie = movie.drop([\"overview\",\"keywords\",\"original_language\",\"spoken_languages\",\"tagline\"],axis=1)"
   ]
  },
  {
   "cell_type": "code",
   "execution_count": 15,
   "id": "1297a55c",
   "metadata": {},
   "outputs": [],
   "source": [
    "movie[\"combined_text\"] = movie[\"combined_text\"].str.replace(\",\",\" \")"
   ]
  },
  {
   "cell_type": "code",
   "execution_count": 16,
   "id": "28f5ba5e",
   "metadata": {},
   "outputs": [
    {
     "data": {
      "text/html": [
       "<div>\n",
       "<style scoped>\n",
       "    .dataframe tbody tr th:only-of-type {\n",
       "        vertical-align: middle;\n",
       "    }\n",
       "\n",
       "    .dataframe tbody tr th {\n",
       "        vertical-align: top;\n",
       "    }\n",
       "\n",
       "    .dataframe thead th {\n",
       "        text-align: right;\n",
       "    }\n",
       "</style>\n",
       "<table border=\"1\" class=\"dataframe\">\n",
       "  <thead>\n",
       "    <tr style=\"text-align: right;\">\n",
       "      <th></th>\n",
       "      <th>id</th>\n",
       "      <th>title</th>\n",
       "      <th>vote_average</th>\n",
       "      <th>vote_count</th>\n",
       "      <th>status</th>\n",
       "      <th>release_date</th>\n",
       "      <th>adult</th>\n",
       "      <th>imdb_id</th>\n",
       "      <th>popularity</th>\n",
       "      <th>genres</th>\n",
       "      <th>production_countries</th>\n",
       "      <th>combined_text</th>\n",
       "    </tr>\n",
       "  </thead>\n",
       "  <tbody>\n",
       "    <tr>\n",
       "      <th>0</th>\n",
       "      <td>27205</td>\n",
       "      <td>Inception</td>\n",
       "      <td>8.364</td>\n",
       "      <td>34495</td>\n",
       "      <td>Released</td>\n",
       "      <td>2010-07-15</td>\n",
       "      <td>False</td>\n",
       "      <td>tt1375666</td>\n",
       "      <td>83.952</td>\n",
       "      <td>Action, Science Fiction, Adventure</td>\n",
       "      <td>United Kingdom, United States of America</td>\n",
       "      <td>Inception Inception Inception Action  Science ...</td>\n",
       "    </tr>\n",
       "    <tr>\n",
       "      <th>1</th>\n",
       "      <td>157336</td>\n",
       "      <td>Interstellar</td>\n",
       "      <td>8.417</td>\n",
       "      <td>32571</td>\n",
       "      <td>Released</td>\n",
       "      <td>2014-11-05</td>\n",
       "      <td>False</td>\n",
       "      <td>tt0816692</td>\n",
       "      <td>140.241</td>\n",
       "      <td>Adventure, Drama, Science Fiction</td>\n",
       "      <td>United Kingdom, United States of America</td>\n",
       "      <td>Interstellar Interstellar Interstellar Adventu...</td>\n",
       "    </tr>\n",
       "    <tr>\n",
       "      <th>2</th>\n",
       "      <td>155</td>\n",
       "      <td>The Dark Knight</td>\n",
       "      <td>8.512</td>\n",
       "      <td>30619</td>\n",
       "      <td>Released</td>\n",
       "      <td>2008-07-16</td>\n",
       "      <td>False</td>\n",
       "      <td>tt0468569</td>\n",
       "      <td>130.643</td>\n",
       "      <td>Drama, Action, Crime, Thriller</td>\n",
       "      <td>United Kingdom, United States of America</td>\n",
       "      <td>The Dark Knight The Dark Knight The Dark Knigh...</td>\n",
       "    </tr>\n",
       "    <tr>\n",
       "      <th>3</th>\n",
       "      <td>19995</td>\n",
       "      <td>Avatar</td>\n",
       "      <td>7.573</td>\n",
       "      <td>29815</td>\n",
       "      <td>Released</td>\n",
       "      <td>2009-12-15</td>\n",
       "      <td>False</td>\n",
       "      <td>tt0499549</td>\n",
       "      <td>79.932</td>\n",
       "      <td>Action, Adventure, Fantasy, Science Fiction</td>\n",
       "      <td>United States of America, United Kingdom</td>\n",
       "      <td>Avatar Avatar Avatar Action  Adventure  Fantas...</td>\n",
       "    </tr>\n",
       "    <tr>\n",
       "      <th>4</th>\n",
       "      <td>24428</td>\n",
       "      <td>The Avengers</td>\n",
       "      <td>7.710</td>\n",
       "      <td>29166</td>\n",
       "      <td>Released</td>\n",
       "      <td>2012-04-25</td>\n",
       "      <td>False</td>\n",
       "      <td>tt0848228</td>\n",
       "      <td>98.082</td>\n",
       "      <td>Science Fiction, Action, Adventure</td>\n",
       "      <td>United States of America</td>\n",
       "      <td>The Avengers The Avengers The Avengers Science...</td>\n",
       "    </tr>\n",
       "  </tbody>\n",
       "</table>\n",
       "</div>"
      ],
      "text/plain": [
       "       id            title  vote_average  vote_count    status release_date  \\\n",
       "0   27205        Inception         8.364       34495  Released   2010-07-15   \n",
       "1  157336     Interstellar         8.417       32571  Released   2014-11-05   \n",
       "2     155  The Dark Knight         8.512       30619  Released   2008-07-16   \n",
       "3   19995           Avatar         7.573       29815  Released   2009-12-15   \n",
       "4   24428     The Avengers         7.710       29166  Released   2012-04-25   \n",
       "\n",
       "   adult    imdb_id  popularity                                       genres  \\\n",
       "0  False  tt1375666      83.952           Action, Science Fiction, Adventure   \n",
       "1  False  tt0816692     140.241            Adventure, Drama, Science Fiction   \n",
       "2  False  tt0468569     130.643               Drama, Action, Crime, Thriller   \n",
       "3  False  tt0499549      79.932  Action, Adventure, Fantasy, Science Fiction   \n",
       "4  False  tt0848228      98.082           Science Fiction, Action, Adventure   \n",
       "\n",
       "                       production_countries  \\\n",
       "0  United Kingdom, United States of America   \n",
       "1  United Kingdom, United States of America   \n",
       "2  United Kingdom, United States of America   \n",
       "3  United States of America, United Kingdom   \n",
       "4                  United States of America   \n",
       "\n",
       "                                       combined_text  \n",
       "0  Inception Inception Inception Action  Science ...  \n",
       "1  Interstellar Interstellar Interstellar Adventu...  \n",
       "2  The Dark Knight The Dark Knight The Dark Knigh...  \n",
       "3  Avatar Avatar Avatar Action  Adventure  Fantas...  \n",
       "4  The Avengers The Avengers The Avengers Science...  "
      ]
     },
     "execution_count": 16,
     "metadata": {},
     "output_type": "execute_result"
    }
   ],
   "source": [
    "movie.head()"
   ]
  },
  {
   "cell_type": "code",
   "execution_count": 17,
   "id": "1990859d",
   "metadata": {},
   "outputs": [],
   "source": [
    "movie['release_date'] = pd.to_datetime(movie['release_date'], errors='coerce')"
   ]
  },
  {
   "cell_type": "code",
   "execution_count": 18,
   "id": "ced64ca2",
   "metadata": {},
   "outputs": [
    {
     "name": "stdout",
     "output_type": "stream",
     "text": [
      "<class 'pandas.core.frame.DataFrame'>\n",
      "Index: 1260932 entries, 0 to 1301239\n",
      "Data columns (total 12 columns):\n",
      " #   Column                Non-Null Count    Dtype         \n",
      "---  ------                --------------    -----         \n",
      " 0   id                    1260932 non-null  int64         \n",
      " 1   title                 1260932 non-null  object        \n",
      " 2   vote_average          1260932 non-null  float64       \n",
      " 3   vote_count            1260932 non-null  int64         \n",
      " 4   status                1260932 non-null  object        \n",
      " 5   release_date          1025808 non-null  datetime64[ns]\n",
      " 6   adult                 1260932 non-null  bool          \n",
      " 7   imdb_id               1260932 non-null  object        \n",
      " 8   popularity            1260932 non-null  float64       \n",
      " 9   genres                1260932 non-null  object        \n",
      " 10  production_countries  1260932 non-null  object        \n",
      " 11  combined_text         1260932 non-null  object        \n",
      "dtypes: bool(1), datetime64[ns](1), float64(2), int64(2), object(6)\n",
      "memory usage: 116.6+ MB\n"
     ]
    }
   ],
   "source": [
    "movie.info()"
   ]
  },
  {
   "cell_type": "code",
   "execution_count": 19,
   "id": "ace6db23",
   "metadata": {},
   "outputs": [],
   "source": [
    "movie.to_csv(r\"C:\\Users\\yasha\\Desktop\\movie_recommender\\Backend\\ml\\data\\processed\\movies_clean.csv\",index=False)"
   ]
  },
  {
   "cell_type": "code",
   "execution_count": 20,
   "id": "a4116c35",
   "metadata": {},
   "outputs": [
    {
     "data": {
      "text/html": [
       "<div>\n",
       "<style scoped>\n",
       "    .dataframe tbody tr th:only-of-type {\n",
       "        vertical-align: middle;\n",
       "    }\n",
       "\n",
       "    .dataframe tbody tr th {\n",
       "        vertical-align: top;\n",
       "    }\n",
       "\n",
       "    .dataframe thead th {\n",
       "        text-align: right;\n",
       "    }\n",
       "</style>\n",
       "<table border=\"1\" class=\"dataframe\">\n",
       "  <thead>\n",
       "    <tr style=\"text-align: right;\">\n",
       "      <th></th>\n",
       "      <th>id</th>\n",
       "      <th>title</th>\n",
       "      <th>vote_average</th>\n",
       "      <th>vote_count</th>\n",
       "      <th>status</th>\n",
       "      <th>release_date</th>\n",
       "      <th>adult</th>\n",
       "      <th>imdb_id</th>\n",
       "      <th>popularity</th>\n",
       "      <th>genres</th>\n",
       "      <th>production_countries</th>\n",
       "      <th>combined_text</th>\n",
       "    </tr>\n",
       "  </thead>\n",
       "  <tbody>\n",
       "    <tr>\n",
       "      <th>991</th>\n",
       "      <td>19404</td>\n",
       "      <td>Dilwale Dulhania Le Jayenge</td>\n",
       "      <td>8.552</td>\n",
       "      <td>4256</td>\n",
       "      <td>Released</td>\n",
       "      <td>1995-10-20</td>\n",
       "      <td>False</td>\n",
       "      <td>tt0112870</td>\n",
       "      <td>33.575</td>\n",
       "      <td>Comedy, Drama, Romance</td>\n",
       "      <td>India</td>\n",
       "      <td>Dilwale Dulhania Le Jayenge Dilwale Dulhania L...</td>\n",
       "    </tr>\n",
       "    <tr>\n",
       "      <th>2020</th>\n",
       "      <td>20453</td>\n",
       "      <td>3 Idiots</td>\n",
       "      <td>7.984</td>\n",
       "      <td>2154</td>\n",
       "      <td>Released</td>\n",
       "      <td>2009-12-23</td>\n",
       "      <td>False</td>\n",
       "      <td>tt1187043</td>\n",
       "      <td>28.111</td>\n",
       "      <td>Drama, Comedy</td>\n",
       "      <td>India</td>\n",
       "      <td>3 Idiots 3 Idiots 3 Idiots Drama  Comedy Rasca...</td>\n",
       "    </tr>\n",
       "    <tr>\n",
       "      <th>3732</th>\n",
       "      <td>579974</td>\n",
       "      <td>RRR</td>\n",
       "      <td>7.811</td>\n",
       "      <td>1068</td>\n",
       "      <td>Released</td>\n",
       "      <td>2022-03-24</td>\n",
       "      <td>False</td>\n",
       "      <td>tt8178634</td>\n",
       "      <td>40.751</td>\n",
       "      <td>Action, Drama</td>\n",
       "      <td>India</td>\n",
       "      <td>RRR RRR RRR Action  Drama A fictional history ...</td>\n",
       "    </tr>\n",
       "    <tr>\n",
       "      <th>3830</th>\n",
       "      <td>7508</td>\n",
       "      <td>Like Stars on Earth</td>\n",
       "      <td>7.976</td>\n",
       "      <td>1037</td>\n",
       "      <td>Released</td>\n",
       "      <td>2007-12-21</td>\n",
       "      <td>False</td>\n",
       "      <td>tt0986264</td>\n",
       "      <td>18.837</td>\n",
       "      <td>Drama</td>\n",
       "      <td>India</td>\n",
       "      <td>Like Stars on Earth Like Stars on Earth Like S...</td>\n",
       "    </tr>\n",
       "    <tr>\n",
       "      <th>4319</th>\n",
       "      <td>297222</td>\n",
       "      <td>PK</td>\n",
       "      <td>7.708</td>\n",
       "      <td>881</td>\n",
       "      <td>Released</td>\n",
       "      <td>2014-12-18</td>\n",
       "      <td>False</td>\n",
       "      <td>tt2338151</td>\n",
       "      <td>10.757</td>\n",
       "      <td>Comedy, Drama, Adventure, Science Fiction</td>\n",
       "      <td>India</td>\n",
       "      <td>PK PK PK Comedy  Drama  Adventure  Science Fic...</td>\n",
       "    </tr>\n",
       "    <tr>\n",
       "      <th>...</th>\n",
       "      <td>...</td>\n",
       "      <td>...</td>\n",
       "      <td>...</td>\n",
       "      <td>...</td>\n",
       "      <td>...</td>\n",
       "      <td>...</td>\n",
       "      <td>...</td>\n",
       "      <td>...</td>\n",
       "      <td>...</td>\n",
       "      <td>...</td>\n",
       "      <td>...</td>\n",
       "      <td>...</td>\n",
       "    </tr>\n",
       "    <tr>\n",
       "      <th>1301000</th>\n",
       "      <td>812968</td>\n",
       "      <td>Malai</td>\n",
       "      <td>0.000</td>\n",
       "      <td>0</td>\n",
       "      <td>Released</td>\n",
       "      <td>NaT</td>\n",
       "      <td>False</td>\n",
       "      <td></td>\n",
       "      <td>0.600</td>\n",
       "      <td></td>\n",
       "      <td>India</td>\n",
       "      <td>Malai Malai Malai  An impoverished little boy ...</td>\n",
       "    </tr>\n",
       "    <tr>\n",
       "      <th>1301030</th>\n",
       "      <td>813415</td>\n",
       "      <td>Naikar Bhumikay</td>\n",
       "      <td>0.000</td>\n",
       "      <td>0</td>\n",
       "      <td>Released</td>\n",
       "      <td>1972-01-01</td>\n",
       "      <td>False</td>\n",
       "      <td></td>\n",
       "      <td>0.600</td>\n",
       "      <td></td>\n",
       "      <td>India</td>\n",
       "      <td>Naikar Bhumikay Naikar Bhumikay Naikar Bhumika...</td>\n",
       "    </tr>\n",
       "    <tr>\n",
       "      <th>1301080</th>\n",
       "      <td>813495</td>\n",
       "      <td>Chubare Wali Baari</td>\n",
       "      <td>0.000</td>\n",
       "      <td>0</td>\n",
       "      <td>Released</td>\n",
       "      <td>2021-01-01</td>\n",
       "      <td>False</td>\n",
       "      <td></td>\n",
       "      <td>0.600</td>\n",
       "      <td></td>\n",
       "      <td>India</td>\n",
       "      <td>Chubare Wali Baari Chubare Wali Baari Chubare ...</td>\n",
       "    </tr>\n",
       "    <tr>\n",
       "      <th>1301153</th>\n",
       "      <td>813207</td>\n",
       "      <td>Uncle: A school in himself</td>\n",
       "      <td>0.000</td>\n",
       "      <td>0</td>\n",
       "      <td>Released</td>\n",
       "      <td>2015-06-10</td>\n",
       "      <td>False</td>\n",
       "      <td></td>\n",
       "      <td>0.600</td>\n",
       "      <td></td>\n",
       "      <td>India</td>\n",
       "      <td>Uncle: A school in himself Uncle: A school in ...</td>\n",
       "    </tr>\n",
       "    <tr>\n",
       "      <th>1301224</th>\n",
       "      <td>813262</td>\n",
       "      <td>Sadanander Mela</td>\n",
       "      <td>0.000</td>\n",
       "      <td>0</td>\n",
       "      <td>Released</td>\n",
       "      <td>1954-01-01</td>\n",
       "      <td>False</td>\n",
       "      <td>tt0047438</td>\n",
       "      <td>0.843</td>\n",
       "      <td>Drama</td>\n",
       "      <td>India</td>\n",
       "      <td>Sadanander Mela Sadanander Mela Sadanander Mel...</td>\n",
       "    </tr>\n",
       "  </tbody>\n",
       "</table>\n",
       "<p>19803 rows × 12 columns</p>\n",
       "</div>"
      ],
      "text/plain": [
       "             id                        title  vote_average  vote_count  \\\n",
       "991       19404  Dilwale Dulhania Le Jayenge         8.552        4256   \n",
       "2020      20453                     3 Idiots         7.984        2154   \n",
       "3732     579974                          RRR         7.811        1068   \n",
       "3830       7508          Like Stars on Earth         7.976        1037   \n",
       "4319     297222                           PK         7.708         881   \n",
       "...         ...                          ...           ...         ...   \n",
       "1301000  812968                        Malai         0.000           0   \n",
       "1301030  813415              Naikar Bhumikay         0.000           0   \n",
       "1301080  813495           Chubare Wali Baari         0.000           0   \n",
       "1301153  813207   Uncle: A school in himself         0.000           0   \n",
       "1301224  813262              Sadanander Mela         0.000           0   \n",
       "\n",
       "           status release_date  adult    imdb_id  popularity  \\\n",
       "991      Released   1995-10-20  False  tt0112870      33.575   \n",
       "2020     Released   2009-12-23  False  tt1187043      28.111   \n",
       "3732     Released   2022-03-24  False  tt8178634      40.751   \n",
       "3830     Released   2007-12-21  False  tt0986264      18.837   \n",
       "4319     Released   2014-12-18  False  tt2338151      10.757   \n",
       "...           ...          ...    ...        ...         ...   \n",
       "1301000  Released          NaT  False                  0.600   \n",
       "1301030  Released   1972-01-01  False                  0.600   \n",
       "1301080  Released   2021-01-01  False                  0.600   \n",
       "1301153  Released   2015-06-10  False                  0.600   \n",
       "1301224  Released   1954-01-01  False  tt0047438       0.843   \n",
       "\n",
       "                                            genres production_countries  \\\n",
       "991                         Comedy, Drama, Romance                India   \n",
       "2020                                 Drama, Comedy                India   \n",
       "3732                                 Action, Drama                India   \n",
       "3830                                         Drama                India   \n",
       "4319     Comedy, Drama, Adventure, Science Fiction                India   \n",
       "...                                            ...                  ...   \n",
       "1301000                                                           India   \n",
       "1301030                                                           India   \n",
       "1301080                                                           India   \n",
       "1301153                                                           India   \n",
       "1301224                                      Drama                India   \n",
       "\n",
       "                                             combined_text  \n",
       "991      Dilwale Dulhania Le Jayenge Dilwale Dulhania L...  \n",
       "2020     3 Idiots 3 Idiots 3 Idiots Drama  Comedy Rasca...  \n",
       "3732     RRR RRR RRR Action  Drama A fictional history ...  \n",
       "3830     Like Stars on Earth Like Stars on Earth Like S...  \n",
       "4319     PK PK PK Comedy  Drama  Adventure  Science Fic...  \n",
       "...                                                    ...  \n",
       "1301000  Malai Malai Malai  An impoverished little boy ...  \n",
       "1301030  Naikar Bhumikay Naikar Bhumikay Naikar Bhumika...  \n",
       "1301080  Chubare Wali Baari Chubare Wali Baari Chubare ...  \n",
       "1301153  Uncle: A school in himself Uncle: A school in ...  \n",
       "1301224  Sadanander Mela Sadanander Mela Sadanander Mel...  \n",
       "\n",
       "[19803 rows x 12 columns]"
      ]
     },
     "execution_count": 20,
     "metadata": {},
     "output_type": "execute_result"
    }
   ],
   "source": [
    "movie[movie[\"production_countries\"]==\"India\"]"
   ]
  }
 ],
 "metadata": {
  "kernelspec": {
   "display_name": "Python 3",
   "language": "python",
   "name": "python3"
  },
  "language_info": {
   "codemirror_mode": {
    "name": "ipython",
    "version": 3
   },
   "file_extension": ".py",
   "mimetype": "text/x-python",
   "name": "python",
   "nbconvert_exporter": "python",
   "pygments_lexer": "ipython3",
   "version": "3.13.5"
  }
 },
 "nbformat": 4,
 "nbformat_minor": 5
}
