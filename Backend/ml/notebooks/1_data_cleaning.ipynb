{
 "cells": [
  {
   "cell_type": "markdown",
   "metadata": {},
   "source": ["# Data Cleaning Notebook"]
  },
  {
   "cell_type": "code",
   "metadata": {},
   "source": ["# Code to clean and preprocess movie dataset"]
  }
 ],
 "metadata": {},
 "nbformat": 4,
 "nbformat_minor": 2
}