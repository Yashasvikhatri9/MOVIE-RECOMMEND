{
 "cells": [
  {
   "cell_type": "code",
   "execution_count": 131,
   "id": "9fcc0dcc",
   "metadata": {},
   "outputs": [],
   "source": [
    "import pandas as pd\n",
    "import numpy as np"
   ]
  },
  {
   "cell_type": "code",
   "execution_count": 132,
   "id": "cbc9e2ec",
   "metadata": {},
   "outputs": [],
   "source": [
    "df = pd.read_csv(r\"C:\\Users\\yasha\\Desktop\\movie\\TMDB_movie_dataset_v11.csv\")"
   ]
  },
  {
   "cell_type": "code",
   "execution_count": 133,
   "id": "46456bf9",
   "metadata": {},
   "outputs": [
    {
     "data": {
      "text/plain": [
       "Index(['id', 'title', 'vote_average', 'vote_count', 'status', 'release_date',\n",
       "       'revenue', 'runtime', 'adult', 'backdrop_path', 'budget', 'homepage',\n",
       "       'imdb_id', 'original_language', 'original_title', 'overview',\n",
       "       'popularity', 'poster_path', 'tagline', 'genres',\n",
       "       'production_companies', 'production_countries', 'spoken_languages',\n",
       "       'keywords'],\n",
       "      dtype='object')"
      ]
     },
     "execution_count": 133,
     "metadata": {},
     "output_type": "execute_result"
    }
   ],
   "source": [
    "movie = df\n",
    "movie.columns"
   ]
  },
  {
   "cell_type": "code",
   "execution_count": 134,
   "id": "019ea16d",
   "metadata": {},
   "outputs": [
    {
     "data": {
      "text/plain": [
       "id                            0\n",
       "title                        16\n",
       "vote_average                  0\n",
       "vote_count                    0\n",
       "status                        0\n",
       "release_date             259048\n",
       "revenue                       0\n",
       "runtime                       0\n",
       "adult                         0\n",
       "backdrop_path            968628\n",
       "budget                        0\n",
       "homepage                1165910\n",
       "imdb_id                  659578\n",
       "original_language             0\n",
       "original_title               16\n",
       "overview                 287845\n",
       "popularity                    0\n",
       "poster_path              441496\n",
       "tagline                 1119682\n",
       "genres                   553600\n",
       "production_companies     733688\n",
       "production_countries     610186\n",
       "spoken_languages         586187\n",
       "keywords                 968299\n",
       "dtype: int64"
      ]
     },
     "execution_count": 134,
     "metadata": {},
     "output_type": "execute_result"
    }
   ],
   "source": [
    "df.isnull().sum()"
   ]
  },
  {
   "cell_type": "code",
   "execution_count": 135,
   "id": "1723fdf8",
   "metadata": {},
   "outputs": [
    {
     "data": {
      "text/plain": [
       "status\n",
       "Released           1261303\n",
       "In Production        17504\n",
       "Post Production      12149\n",
       "Planned               9403\n",
       "Rumored                542\n",
       "Canceled               339\n",
       "Name: count, dtype: int64"
      ]
     },
     "execution_count": 135,
     "metadata": {},
     "output_type": "execute_result"
    }
   ],
   "source": [
    "movie[\"status\"].value_counts()"
   ]
  },
  {
   "cell_type": "code",
   "execution_count": 136,
   "id": "54725232",
   "metadata": {},
   "outputs": [],
   "source": [
    "movie = movie.drop(columns=[\"poster_path\",\"backdrop_path\",\"revenue\",\"runtime\",\"budget\",\"homepage\",\"original_title\",\"poster_path\",\"production_companies\"],axis=1)\n"
   ]
  },
  {
   "cell_type": "code",
   "execution_count": 137,
   "id": "6bae94f4",
   "metadata": {},
   "outputs": [],
   "source": [
    "movie = movie[movie[\"status\"] == \"Released\"]"
   ]
  },
  {
   "cell_type": "code",
   "execution_count": 138,
   "id": "989f36ee",
   "metadata": {},
   "outputs": [],
   "source": [
    "movie = movie.dropna(subset=['title'])"
   ]
  },
  {
   "cell_type": "code",
   "execution_count": 139,
   "id": "e51c755a",
   "metadata": {},
   "outputs": [
    {
     "data": {
      "text/plain": [
       "id                            0\n",
       "title                         0\n",
       "vote_average                  0\n",
       "vote_count                    0\n",
       "status                        0\n",
       "release_date             235330\n",
       "adult                         0\n",
       "imdb_id                  631747\n",
       "original_language             0\n",
       "overview                 278466\n",
       "popularity                    0\n",
       "tagline                 1085884\n",
       "genres                   542614\n",
       "production_countries     594892\n",
       "spoken_languages         574281\n",
       "keywords                 938056\n",
       "dtype: int64"
      ]
     },
     "execution_count": 139,
     "metadata": {},
     "output_type": "execute_result"
    }
   ],
   "source": [
    "\n",
    "movie = movie.dropna(subset=[\"title\"])\n",
    "movie.isnull().sum()"
   ]
  },
  {
   "cell_type": "code",
   "execution_count": 140,
   "id": "9b46b4fc",
   "metadata": {},
   "outputs": [],
   "source": [
    "text_columns = ['overview','genres', 'keywords', 'tagline','release_date', 'imdb_id', 'production_countries', 'spoken_languages']\n",
    "for col in text_columns:\n",
    "    movie[col] = movie[col].fillna('')"
   ]
  },
  {
   "cell_type": "code",
   "execution_count": 141,
   "id": "5e30d2ff",
   "metadata": {},
   "outputs": [
    {
     "data": {
      "text/plain": [
       "np.int64(0)"
      ]
     },
     "execution_count": 141,
     "metadata": {},
     "output_type": "execute_result"
    }
   ],
   "source": [
    "movie = movie.drop_duplicates()\n",
    "movie.duplicated().sum()"
   ]
  },
  {
   "cell_type": "code",
   "execution_count": 142,
   "id": "44a7b8b2",
   "metadata": {},
   "outputs": [
    {
     "data": {
      "text/plain": [
       "id                      0\n",
       "title                   0\n",
       "vote_average            0\n",
       "vote_count              0\n",
       "status                  0\n",
       "release_date            0\n",
       "adult                   0\n",
       "imdb_id                 0\n",
       "original_language       0\n",
       "overview                0\n",
       "popularity              0\n",
       "tagline                 0\n",
       "genres                  0\n",
       "production_countries    0\n",
       "spoken_languages        0\n",
       "keywords                0\n",
       "dtype: int64"
      ]
     },
     "execution_count": 142,
     "metadata": {},
     "output_type": "execute_result"
    }
   ],
   "source": [
    "movie.isna().sum()"
   ]
  },
  {
   "cell_type": "code",
   "execution_count": 143,
   "id": "febd7c0a",
   "metadata": {},
   "outputs": [],
   "source": [
    "movie['combined_text'] = movie['genres'] + ' ' + movie['overview'] + ' ' + movie['keywords'] + ' ' + movie['spoken_languages'] + ' ' + movie['tagline']"
   ]
  },
  {
   "cell_type": "code",
   "execution_count": 144,
   "id": "6dfaa0b5",
   "metadata": {},
   "outputs": [],
   "source": [
    "movie = movie.drop([\"genres\",\"overview\",\"keywords\",\"original_language\",\"spoken_languages\",\"tagline\"],axis=1)"
   ]
  },
  {
   "cell_type": "code",
   "execution_count": 145,
   "id": "1297a55c",
   "metadata": {},
   "outputs": [],
   "source": [
    "movie[\"combined_text\"] = movie[\"combined_text\"].str.replace(\",\",\" \")"
   ]
  },
  {
   "cell_type": "code",
   "execution_count": 146,
   "id": "28f5ba5e",
   "metadata": {},
   "outputs": [
    {
     "data": {
      "text/html": [
       "<div>\n",
       "<style scoped>\n",
       "    .dataframe tbody tr th:only-of-type {\n",
       "        vertical-align: middle;\n",
       "    }\n",
       "\n",
       "    .dataframe tbody tr th {\n",
       "        vertical-align: top;\n",
       "    }\n",
       "\n",
       "    .dataframe thead th {\n",
       "        text-align: right;\n",
       "    }\n",
       "</style>\n",
       "<table border=\"1\" class=\"dataframe\">\n",
       "  <thead>\n",
       "    <tr style=\"text-align: right;\">\n",
       "      <th></th>\n",
       "      <th>id</th>\n",
       "      <th>title</th>\n",
       "      <th>vote_average</th>\n",
       "      <th>vote_count</th>\n",
       "      <th>status</th>\n",
       "      <th>release_date</th>\n",
       "      <th>adult</th>\n",
       "      <th>imdb_id</th>\n",
       "      <th>popularity</th>\n",
       "      <th>production_countries</th>\n",
       "      <th>combined_text</th>\n",
       "    </tr>\n",
       "  </thead>\n",
       "  <tbody>\n",
       "    <tr>\n",
       "      <th>0</th>\n",
       "      <td>27205</td>\n",
       "      <td>Inception</td>\n",
       "      <td>8.364</td>\n",
       "      <td>34495</td>\n",
       "      <td>Released</td>\n",
       "      <td>2010-07-15</td>\n",
       "      <td>False</td>\n",
       "      <td>tt1375666</td>\n",
       "      <td>83.952</td>\n",
       "      <td>United Kingdom, United States of America</td>\n",
       "      <td>Action  Science Fiction  Adventure Cobb  a ski...</td>\n",
       "    </tr>\n",
       "    <tr>\n",
       "      <th>1</th>\n",
       "      <td>157336</td>\n",
       "      <td>Interstellar</td>\n",
       "      <td>8.417</td>\n",
       "      <td>32571</td>\n",
       "      <td>Released</td>\n",
       "      <td>2014-11-05</td>\n",
       "      <td>False</td>\n",
       "      <td>tt0816692</td>\n",
       "      <td>140.241</td>\n",
       "      <td>United Kingdom, United States of America</td>\n",
       "      <td>Adventure  Drama  Science Fiction The adventur...</td>\n",
       "    </tr>\n",
       "    <tr>\n",
       "      <th>2</th>\n",
       "      <td>155</td>\n",
       "      <td>The Dark Knight</td>\n",
       "      <td>8.512</td>\n",
       "      <td>30619</td>\n",
       "      <td>Released</td>\n",
       "      <td>2008-07-16</td>\n",
       "      <td>False</td>\n",
       "      <td>tt0468569</td>\n",
       "      <td>130.643</td>\n",
       "      <td>United Kingdom, United States of America</td>\n",
       "      <td>Drama  Action  Crime  Thriller Batman raises t...</td>\n",
       "    </tr>\n",
       "    <tr>\n",
       "      <th>3</th>\n",
       "      <td>19995</td>\n",
       "      <td>Avatar</td>\n",
       "      <td>7.573</td>\n",
       "      <td>29815</td>\n",
       "      <td>Released</td>\n",
       "      <td>2009-12-15</td>\n",
       "      <td>False</td>\n",
       "      <td>tt0499549</td>\n",
       "      <td>79.932</td>\n",
       "      <td>United States of America, United Kingdom</td>\n",
       "      <td>Action  Adventure  Fantasy  Science Fiction In...</td>\n",
       "    </tr>\n",
       "    <tr>\n",
       "      <th>4</th>\n",
       "      <td>24428</td>\n",
       "      <td>The Avengers</td>\n",
       "      <td>7.710</td>\n",
       "      <td>29166</td>\n",
       "      <td>Released</td>\n",
       "      <td>2012-04-25</td>\n",
       "      <td>False</td>\n",
       "      <td>tt0848228</td>\n",
       "      <td>98.082</td>\n",
       "      <td>United States of America</td>\n",
       "      <td>Science Fiction  Action  Adventure When an une...</td>\n",
       "    </tr>\n",
       "  </tbody>\n",
       "</table>\n",
       "</div>"
      ],
      "text/plain": [
       "       id            title  vote_average  vote_count    status release_date  \\\n",
       "0   27205        Inception         8.364       34495  Released   2010-07-15   \n",
       "1  157336     Interstellar         8.417       32571  Released   2014-11-05   \n",
       "2     155  The Dark Knight         8.512       30619  Released   2008-07-16   \n",
       "3   19995           Avatar         7.573       29815  Released   2009-12-15   \n",
       "4   24428     The Avengers         7.710       29166  Released   2012-04-25   \n",
       "\n",
       "   adult    imdb_id  popularity                      production_countries  \\\n",
       "0  False  tt1375666      83.952  United Kingdom, United States of America   \n",
       "1  False  tt0816692     140.241  United Kingdom, United States of America   \n",
       "2  False  tt0468569     130.643  United Kingdom, United States of America   \n",
       "3  False  tt0499549      79.932  United States of America, United Kingdom   \n",
       "4  False  tt0848228      98.082                  United States of America   \n",
       "\n",
       "                                       combined_text  \n",
       "0  Action  Science Fiction  Adventure Cobb  a ski...  \n",
       "1  Adventure  Drama  Science Fiction The adventur...  \n",
       "2  Drama  Action  Crime  Thriller Batman raises t...  \n",
       "3  Action  Adventure  Fantasy  Science Fiction In...  \n",
       "4  Science Fiction  Action  Adventure When an une...  "
      ]
     },
     "execution_count": 146,
     "metadata": {},
     "output_type": "execute_result"
    }
   ],
   "source": [
    "movie.head()"
   ]
  },
  {
   "cell_type": "code",
   "execution_count": 147,
   "id": "1990859d",
   "metadata": {},
   "outputs": [],
   "source": [
    "movie['release_date'] = pd.to_datetime(movie['release_date'], errors='coerce')"
   ]
  },
  {
   "cell_type": "code",
   "execution_count": 149,
   "id": "ced64ca2",
   "metadata": {},
   "outputs": [
    {
     "name": "stdout",
     "output_type": "stream",
     "text": [
      "<class 'pandas.core.frame.DataFrame'>\n",
      "Index: 1260932 entries, 0 to 1301239\n",
      "Data columns (total 11 columns):\n",
      " #   Column                Non-Null Count    Dtype         \n",
      "---  ------                --------------    -----         \n",
      " 0   id                    1260932 non-null  int64         \n",
      " 1   title                 1260932 non-null  object        \n",
      " 2   vote_average          1260932 non-null  float64       \n",
      " 3   vote_count            1260932 non-null  int64         \n",
      " 4   status                1260932 non-null  object        \n",
      " 5   release_date          1025808 non-null  datetime64[ns]\n",
      " 6   adult                 1260932 non-null  bool          \n",
      " 7   imdb_id               1260932 non-null  object        \n",
      " 8   popularity            1260932 non-null  float64       \n",
      " 9   production_countries  1260932 non-null  object        \n",
      " 10  combined_text         1260932 non-null  object        \n",
      "dtypes: bool(1), datetime64[ns](1), float64(2), int64(2), object(5)\n",
      "memory usage: 107.0+ MB\n"
     ]
    }
   ],
   "source": [
    "movie.info()"
   ]
  },
  {
   "cell_type": "code",
   "execution_count": 152,
   "id": "ace6db23",
   "metadata": {},
   "outputs": [],
   "source": [
    "movie.to_csv(r\"C:\\Users\\yasha\\Desktop\\movie_recommender\\Backend\\ml\\data\\processed\\movies_clean.csv\",index=False)"
   ]
  }
 ],
 "metadata": {
  "kernelspec": {
   "display_name": "Python 3",
   "language": "python",
   "name": "python3"
  },
  "language_info": {
   "codemirror_mode": {
    "name": "ipython",
    "version": 3
   },
   "file_extension": ".py",
   "mimetype": "text/x-python",
   "name": "python",
   "nbconvert_exporter": "python",
   "pygments_lexer": "ipython3",
   "version": "3.13.5"
  }
 },
 "nbformat": 4,
 "nbformat_minor": 5
}
